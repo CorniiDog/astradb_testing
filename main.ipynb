{
 "cells": [
  {
   "cell_type": "markdown",
   "metadata": {},
   "source": [
    "\n",
    "# Database Testing and Tutorial Self-Walkthrough\n",
    "\n",
    "YT Video Start: https://youtu.be/N1FM-PcVXNA?si=LTwvfIozUsS6clqF&t=185"
   ]
  },
  {
   "cell_type": "code",
   "execution_count": 12,
   "metadata": {},
   "outputs": [
    {
     "name": "stdout",
     "output_type": "stream",
     "text": [
      "Requirement already satisfied: langchain in ./.venv/lib/python3.12/site-packages (0.3.21)\n",
      "Requirement already satisfied: langgraph in ./.venv/lib/python3.12/site-packages (0.3.18)\n",
      "Requirement already satisfied: cassio in ./.venv/lib/python3.12/site-packages (0.1.10)\n",
      "Requirement already satisfied: langchain_community in ./.venv/lib/python3.12/site-packages (0.3.20)\n",
      "Requirement already satisfied: tiktoken in ./.venv/lib/python3.12/site-packages (0.9.0)\n",
      "Requirement already satisfied: langchain-groq in ./.venv/lib/python3.12/site-packages (0.3.1)\n",
      "Requirement already satisfied: langchainhub in ./.venv/lib/python3.12/site-packages (0.1.21)\n",
      "Requirement already satisfied: chromadb in ./.venv/lib/python3.12/site-packages (0.6.3)\n",
      "Requirement already satisfied: langchain_huggingface in ./.venv/lib/python3.12/site-packages (0.1.2)\n",
      "Collecting arxiv\n",
      "  Downloading arxiv-2.1.3-py3-none-any.whl.metadata (6.1 kB)\n",
      "Collecting wikipedia\n",
      "  Downloading wikipedia-1.4.0.tar.gz (27 kB)\n",
      "  Installing build dependencies ... \u001b[?25ldone\n",
      "\u001b[?25h  Getting requirements to build wheel ... \u001b[?25ldone\n",
      "\u001b[?25h  Preparing metadata (pyproject.toml) ... \u001b[?25ldone\n",
      "\u001b[?25hRequirement already satisfied: langchain-core<1.0.0,>=0.3.45 in ./.venv/lib/python3.12/site-packages (from langchain) (0.3.47)\n",
      "Requirement already satisfied: langchain-text-splitters<1.0.0,>=0.3.7 in ./.venv/lib/python3.12/site-packages (from langchain) (0.3.7)\n",
      "Requirement already satisfied: langsmith<0.4,>=0.1.17 in ./.venv/lib/python3.12/site-packages (from langchain) (0.3.18)\n",
      "Requirement already satisfied: pydantic<3.0.0,>=2.7.4 in ./.venv/lib/python3.12/site-packages (from langchain) (2.10.6)\n",
      "Requirement already satisfied: SQLAlchemy<3,>=1.4 in ./.venv/lib/python3.12/site-packages (from langchain) (2.0.39)\n",
      "Requirement already satisfied: requests<3,>=2 in ./.venv/lib/python3.12/site-packages (from langchain) (2.32.3)\n",
      "Requirement already satisfied: PyYAML>=5.3 in ./.venv/lib/python3.12/site-packages (from langchain) (6.0.2)\n",
      "Requirement already satisfied: langgraph-checkpoint<3.0.0,>=2.0.10 in ./.venv/lib/python3.12/site-packages (from langgraph) (2.0.21)\n",
      "Requirement already satisfied: langgraph-prebuilt<0.2,>=0.1.1 in ./.venv/lib/python3.12/site-packages (from langgraph) (0.1.4)\n",
      "Requirement already satisfied: langgraph-sdk<0.2.0,>=0.1.42 in ./.venv/lib/python3.12/site-packages (from langgraph) (0.1.58)\n",
      "Requirement already satisfied: cassandra-driver<4.0.0,>=3.28.0 in ./.venv/lib/python3.12/site-packages (from cassio) (3.29.2)\n",
      "Requirement already satisfied: numpy>=1.0 in ./.venv/lib/python3.12/site-packages (from cassio) (2.2.4)\n",
      "Requirement already satisfied: aiohttp<4.0.0,>=3.8.3 in ./.venv/lib/python3.12/site-packages (from langchain_community) (3.11.14)\n",
      "Requirement already satisfied: tenacity!=8.4.0,<10,>=8.1.0 in ./.venv/lib/python3.12/site-packages (from langchain_community) (9.0.0)\n",
      "Requirement already satisfied: dataclasses-json<0.7,>=0.5.7 in ./.venv/lib/python3.12/site-packages (from langchain_community) (0.6.7)\n",
      "Requirement already satisfied: pydantic-settings<3.0.0,>=2.4.0 in ./.venv/lib/python3.12/site-packages (from langchain_community) (2.8.1)\n",
      "Requirement already satisfied: httpx-sse<1.0.0,>=0.4.0 in ./.venv/lib/python3.12/site-packages (from langchain_community) (0.4.0)\n",
      "Requirement already satisfied: regex>=2022.1.18 in ./.venv/lib/python3.12/site-packages (from tiktoken) (2024.11.6)\n",
      "Requirement already satisfied: groq<1,>=0.4.1 in ./.venv/lib/python3.12/site-packages (from langchain-groq) (0.20.0)\n",
      "Requirement already satisfied: packaging<25,>=23.2 in ./.venv/lib/python3.12/site-packages (from langchainhub) (24.2)\n",
      "Requirement already satisfied: types-requests<3.0.0.0,>=2.31.0.2 in ./.venv/lib/python3.12/site-packages (from langchainhub) (2.32.0.20250306)\n",
      "Requirement already satisfied: build>=1.0.3 in ./.venv/lib/python3.12/site-packages (from chromadb) (1.2.2.post1)\n",
      "Requirement already satisfied: chroma-hnswlib==0.7.6 in ./.venv/lib/python3.12/site-packages (from chromadb) (0.7.6)\n",
      "Requirement already satisfied: fastapi>=0.95.2 in ./.venv/lib/python3.12/site-packages (from chromadb) (0.115.12)\n",
      "Requirement already satisfied: uvicorn>=0.18.3 in ./.venv/lib/python3.12/site-packages (from uvicorn[standard]>=0.18.3->chromadb) (0.34.0)\n",
      "Requirement already satisfied: posthog>=2.4.0 in ./.venv/lib/python3.12/site-packages (from chromadb) (3.21.0)\n",
      "Requirement already satisfied: typing_extensions>=4.5.0 in ./.venv/lib/python3.12/site-packages (from chromadb) (4.12.2)\n",
      "Requirement already satisfied: onnxruntime>=1.14.1 in ./.venv/lib/python3.12/site-packages (from chromadb) (1.21.0)\n",
      "Requirement already satisfied: opentelemetry-api>=1.2.0 in ./.venv/lib/python3.12/site-packages (from chromadb) (1.31.1)\n",
      "Requirement already satisfied: opentelemetry-exporter-otlp-proto-grpc>=1.2.0 in ./.venv/lib/python3.12/site-packages (from chromadb) (1.31.1)\n",
      "Requirement already satisfied: opentelemetry-instrumentation-fastapi>=0.41b0 in ./.venv/lib/python3.12/site-packages (from chromadb) (0.52b1)\n",
      "Requirement already satisfied: opentelemetry-sdk>=1.2.0 in ./.venv/lib/python3.12/site-packages (from chromadb) (1.31.1)\n",
      "Requirement already satisfied: tokenizers>=0.13.2 in ./.venv/lib/python3.12/site-packages (from chromadb) (0.21.1)\n",
      "Requirement already satisfied: pypika>=0.48.9 in ./.venv/lib/python3.12/site-packages (from chromadb) (0.48.9)\n",
      "Requirement already satisfied: tqdm>=4.65.0 in ./.venv/lib/python3.12/site-packages (from chromadb) (4.67.1)\n",
      "Requirement already satisfied: overrides>=7.3.1 in ./.venv/lib/python3.12/site-packages (from chromadb) (7.7.0)\n",
      "Requirement already satisfied: importlib-resources in ./.venv/lib/python3.12/site-packages (from chromadb) (6.5.2)\n",
      "Requirement already satisfied: grpcio>=1.58.0 in ./.venv/lib/python3.12/site-packages (from chromadb) (1.71.0)\n",
      "Requirement already satisfied: bcrypt>=4.0.1 in ./.venv/lib/python3.12/site-packages (from chromadb) (4.3.0)\n",
      "Requirement already satisfied: typer>=0.9.0 in ./.venv/lib/python3.12/site-packages (from chromadb) (0.15.2)\n",
      "Requirement already satisfied: kubernetes>=28.1.0 in ./.venv/lib/python3.12/site-packages (from chromadb) (32.0.1)\n",
      "Requirement already satisfied: mmh3>=4.0.1 in ./.venv/lib/python3.12/site-packages (from chromadb) (5.1.0)\n",
      "Requirement already satisfied: orjson>=3.9.12 in ./.venv/lib/python3.12/site-packages (from chromadb) (3.10.15)\n",
      "Requirement already satisfied: httpx>=0.27.0 in ./.venv/lib/python3.12/site-packages (from chromadb) (0.28.1)\n",
      "Requirement already satisfied: rich>=10.11.0 in ./.venv/lib/python3.12/site-packages (from chromadb) (13.9.4)\n",
      "Requirement already satisfied: huggingface-hub>=0.23.0 in ./.venv/lib/python3.12/site-packages (from langchain_huggingface) (0.29.3)\n",
      "Requirement already satisfied: sentence-transformers>=2.6.0 in ./.venv/lib/python3.12/site-packages (from langchain_huggingface) (3.4.1)\n",
      "Requirement already satisfied: transformers>=4.39.0 in ./.venv/lib/python3.12/site-packages (from langchain_huggingface) (4.50.0)\n",
      "Collecting feedparser~=6.0.10 (from arxiv)\n",
      "  Downloading feedparser-6.0.11-py3-none-any.whl.metadata (2.4 kB)\n",
      "Collecting beautifulsoup4 (from wikipedia)\n",
      "  Using cached beautifulsoup4-4.13.3-py3-none-any.whl.metadata (3.8 kB)\n",
      "Requirement already satisfied: aiohappyeyeballs>=2.3.0 in ./.venv/lib/python3.12/site-packages (from aiohttp<4.0.0,>=3.8.3->langchain_community) (2.6.1)\n",
      "Requirement already satisfied: aiosignal>=1.1.2 in ./.venv/lib/python3.12/site-packages (from aiohttp<4.0.0,>=3.8.3->langchain_community) (1.3.2)\n",
      "Requirement already satisfied: attrs>=17.3.0 in ./.venv/lib/python3.12/site-packages (from aiohttp<4.0.0,>=3.8.3->langchain_community) (25.3.0)\n",
      "Requirement already satisfied: frozenlist>=1.1.1 in ./.venv/lib/python3.12/site-packages (from aiohttp<4.0.0,>=3.8.3->langchain_community) (1.5.0)\n",
      "Requirement already satisfied: multidict<7.0,>=4.5 in ./.venv/lib/python3.12/site-packages (from aiohttp<4.0.0,>=3.8.3->langchain_community) (6.2.0)\n",
      "Requirement already satisfied: propcache>=0.2.0 in ./.venv/lib/python3.12/site-packages (from aiohttp<4.0.0,>=3.8.3->langchain_community) (0.3.0)\n",
      "Requirement already satisfied: yarl<2.0,>=1.17.0 in ./.venv/lib/python3.12/site-packages (from aiohttp<4.0.0,>=3.8.3->langchain_community) (1.18.3)\n",
      "Requirement already satisfied: pyproject_hooks in ./.venv/lib/python3.12/site-packages (from build>=1.0.3->chromadb) (1.2.0)\n",
      "Requirement already satisfied: geomet<0.3,>=0.1 in ./.venv/lib/python3.12/site-packages (from cassandra-driver<4.0.0,>=3.28.0->cassio) (0.2.1.post1)\n",
      "Requirement already satisfied: marshmallow<4.0.0,>=3.18.0 in ./.venv/lib/python3.12/site-packages (from dataclasses-json<0.7,>=0.5.7->langchain_community) (3.26.1)\n",
      "Requirement already satisfied: typing-inspect<1,>=0.4.0 in ./.venv/lib/python3.12/site-packages (from dataclasses-json<0.7,>=0.5.7->langchain_community) (0.9.0)\n",
      "Requirement already satisfied: starlette<0.47.0,>=0.40.0 in ./.venv/lib/python3.12/site-packages (from fastapi>=0.95.2->chromadb) (0.46.1)\n",
      "Collecting sgmllib3k (from feedparser~=6.0.10->arxiv)\n",
      "  Downloading sgmllib3k-1.0.0.tar.gz (5.8 kB)\n",
      "  Installing build dependencies ... \u001b[?25ldone\n",
      "\u001b[?25h  Getting requirements to build wheel ... \u001b[?25ldone\n",
      "\u001b[?25h  Preparing metadata (pyproject.toml) ... \u001b[?25ldone\n",
      "\u001b[?25hRequirement already satisfied: anyio<5,>=3.5.0 in ./.venv/lib/python3.12/site-packages (from groq<1,>=0.4.1->langchain-groq) (4.9.0)\n",
      "Requirement already satisfied: distro<2,>=1.7.0 in ./.venv/lib/python3.12/site-packages (from groq<1,>=0.4.1->langchain-groq) (1.9.0)\n",
      "Requirement already satisfied: sniffio in ./.venv/lib/python3.12/site-packages (from groq<1,>=0.4.1->langchain-groq) (1.3.1)\n",
      "Requirement already satisfied: certifi in ./.venv/lib/python3.12/site-packages (from httpx>=0.27.0->chromadb) (2025.1.31)\n",
      "Requirement already satisfied: httpcore==1.* in ./.venv/lib/python3.12/site-packages (from httpx>=0.27.0->chromadb) (1.0.7)\n",
      "Requirement already satisfied: idna in ./.venv/lib/python3.12/site-packages (from httpx>=0.27.0->chromadb) (3.10)\n",
      "Requirement already satisfied: h11<0.15,>=0.13 in ./.venv/lib/python3.12/site-packages (from httpcore==1.*->httpx>=0.27.0->chromadb) (0.14.0)\n",
      "Requirement already satisfied: filelock in ./.venv/lib/python3.12/site-packages (from huggingface-hub>=0.23.0->langchain_huggingface) (3.18.0)\n",
      "Requirement already satisfied: fsspec>=2023.5.0 in ./.venv/lib/python3.12/site-packages (from huggingface-hub>=0.23.0->langchain_huggingface) (2025.3.0)\n",
      "Requirement already satisfied: six>=1.9.0 in ./.venv/lib/python3.12/site-packages (from kubernetes>=28.1.0->chromadb) (1.17.0)\n",
      "Requirement already satisfied: python-dateutil>=2.5.3 in ./.venv/lib/python3.12/site-packages (from kubernetes>=28.1.0->chromadb) (2.9.0.post0)\n",
      "Requirement already satisfied: google-auth>=1.0.1 in ./.venv/lib/python3.12/site-packages (from kubernetes>=28.1.0->chromadb) (2.38.0)\n",
      "Requirement already satisfied: websocket-client!=0.40.0,!=0.41.*,!=0.42.*,>=0.32.0 in ./.venv/lib/python3.12/site-packages (from kubernetes>=28.1.0->chromadb) (1.8.0)\n",
      "Requirement already satisfied: requests-oauthlib in ./.venv/lib/python3.12/site-packages (from kubernetes>=28.1.0->chromadb) (2.0.0)\n",
      "Requirement already satisfied: oauthlib>=3.2.2 in ./.venv/lib/python3.12/site-packages (from kubernetes>=28.1.0->chromadb) (3.2.2)\n",
      "Requirement already satisfied: urllib3>=1.24.2 in ./.venv/lib/python3.12/site-packages (from kubernetes>=28.1.0->chromadb) (2.3.0)\n",
      "Requirement already satisfied: durationpy>=0.7 in ./.venv/lib/python3.12/site-packages (from kubernetes>=28.1.0->chromadb) (0.9)\n",
      "Requirement already satisfied: jsonpatch<2.0,>=1.33 in ./.venv/lib/python3.12/site-packages (from langchain-core<1.0.0,>=0.3.45->langchain) (1.33)\n",
      "Requirement already satisfied: msgpack<2.0.0,>=1.1.0 in ./.venv/lib/python3.12/site-packages (from langgraph-checkpoint<3.0.0,>=2.0.10->langgraph) (1.1.0)\n",
      "Requirement already satisfied: requests-toolbelt<2.0.0,>=1.0.0 in ./.venv/lib/python3.12/site-packages (from langsmith<0.4,>=0.1.17->langchain) (1.0.0)\n",
      "Requirement already satisfied: zstandard<0.24.0,>=0.23.0 in ./.venv/lib/python3.12/site-packages (from langsmith<0.4,>=0.1.17->langchain) (0.23.0)\n",
      "Requirement already satisfied: coloredlogs in ./.venv/lib/python3.12/site-packages (from onnxruntime>=1.14.1->chromadb) (15.0.1)\n",
      "Requirement already satisfied: flatbuffers in ./.venv/lib/python3.12/site-packages (from onnxruntime>=1.14.1->chromadb) (25.2.10)\n",
      "Requirement already satisfied: protobuf in ./.venv/lib/python3.12/site-packages (from onnxruntime>=1.14.1->chromadb) (5.29.4)\n",
      "Requirement already satisfied: sympy in ./.venv/lib/python3.12/site-packages (from onnxruntime>=1.14.1->chromadb) (1.13.1)\n",
      "Requirement already satisfied: deprecated>=1.2.6 in ./.venv/lib/python3.12/site-packages (from opentelemetry-api>=1.2.0->chromadb) (1.2.18)\n",
      "Requirement already satisfied: importlib-metadata<8.7.0,>=6.0 in ./.venv/lib/python3.12/site-packages (from opentelemetry-api>=1.2.0->chromadb) (8.6.1)\n",
      "Requirement already satisfied: googleapis-common-protos~=1.52 in ./.venv/lib/python3.12/site-packages (from opentelemetry-exporter-otlp-proto-grpc>=1.2.0->chromadb) (1.69.2)\n",
      "Requirement already satisfied: opentelemetry-exporter-otlp-proto-common==1.31.1 in ./.venv/lib/python3.12/site-packages (from opentelemetry-exporter-otlp-proto-grpc>=1.2.0->chromadb) (1.31.1)\n",
      "Requirement already satisfied: opentelemetry-proto==1.31.1 in ./.venv/lib/python3.12/site-packages (from opentelemetry-exporter-otlp-proto-grpc>=1.2.0->chromadb) (1.31.1)\n",
      "Requirement already satisfied: opentelemetry-instrumentation-asgi==0.52b1 in ./.venv/lib/python3.12/site-packages (from opentelemetry-instrumentation-fastapi>=0.41b0->chromadb) (0.52b1)\n",
      "Requirement already satisfied: opentelemetry-instrumentation==0.52b1 in ./.venv/lib/python3.12/site-packages (from opentelemetry-instrumentation-fastapi>=0.41b0->chromadb) (0.52b1)\n",
      "Requirement already satisfied: opentelemetry-semantic-conventions==0.52b1 in ./.venv/lib/python3.12/site-packages (from opentelemetry-instrumentation-fastapi>=0.41b0->chromadb) (0.52b1)\n",
      "Requirement already satisfied: opentelemetry-util-http==0.52b1 in ./.venv/lib/python3.12/site-packages (from opentelemetry-instrumentation-fastapi>=0.41b0->chromadb) (0.52b1)\n",
      "Requirement already satisfied: wrapt<2.0.0,>=1.0.0 in ./.venv/lib/python3.12/site-packages (from opentelemetry-instrumentation==0.52b1->opentelemetry-instrumentation-fastapi>=0.41b0->chromadb) (1.17.2)\n",
      "Requirement already satisfied: asgiref~=3.0 in ./.venv/lib/python3.12/site-packages (from opentelemetry-instrumentation-asgi==0.52b1->opentelemetry-instrumentation-fastapi>=0.41b0->chromadb) (3.8.1)\n",
      "Requirement already satisfied: monotonic>=1.5 in ./.venv/lib/python3.12/site-packages (from posthog>=2.4.0->chromadb) (1.6)\n",
      "Requirement already satisfied: backoff>=1.10.0 in ./.venv/lib/python3.12/site-packages (from posthog>=2.4.0->chromadb) (2.2.1)\n",
      "Requirement already satisfied: annotated-types>=0.6.0 in ./.venv/lib/python3.12/site-packages (from pydantic<3.0.0,>=2.7.4->langchain) (0.7.0)\n",
      "Requirement already satisfied: pydantic-core==2.27.2 in ./.venv/lib/python3.12/site-packages (from pydantic<3.0.0,>=2.7.4->langchain) (2.27.2)\n",
      "Requirement already satisfied: python-dotenv>=0.21.0 in ./.venv/lib/python3.12/site-packages (from pydantic-settings<3.0.0,>=2.4.0->langchain_community) (1.0.1)\n",
      "Requirement already satisfied: charset-normalizer<4,>=2 in ./.venv/lib/python3.12/site-packages (from requests<3,>=2->langchain) (3.4.1)\n",
      "Requirement already satisfied: markdown-it-py>=2.2.0 in ./.venv/lib/python3.12/site-packages (from rich>=10.11.0->chromadb) (3.0.0)\n",
      "Requirement already satisfied: pygments<3.0.0,>=2.13.0 in ./.venv/lib/python3.12/site-packages (from rich>=10.11.0->chromadb) (2.19.1)\n",
      "Requirement already satisfied: torch>=1.11.0 in ./.venv/lib/python3.12/site-packages (from sentence-transformers>=2.6.0->langchain_huggingface) (2.6.0)\n",
      "Requirement already satisfied: scikit-learn in ./.venv/lib/python3.12/site-packages (from sentence-transformers>=2.6.0->langchain_huggingface) (1.6.1)\n",
      "Requirement already satisfied: scipy in ./.venv/lib/python3.12/site-packages (from sentence-transformers>=2.6.0->langchain_huggingface) (1.15.2)\n",
      "Requirement already satisfied: Pillow in ./.venv/lib/python3.12/site-packages (from sentence-transformers>=2.6.0->langchain_huggingface) (11.1.0)\n",
      "Requirement already satisfied: greenlet!=0.4.17 in ./.venv/lib/python3.12/site-packages (from SQLAlchemy<3,>=1.4->langchain) (3.1.1)\n",
      "Requirement already satisfied: safetensors>=0.4.3 in ./.venv/lib/python3.12/site-packages (from transformers>=4.39.0->langchain_huggingface) (0.5.3)\n",
      "Requirement already satisfied: click>=8.0.0 in ./.venv/lib/python3.12/site-packages (from typer>=0.9.0->chromadb) (8.1.8)\n",
      "Requirement already satisfied: shellingham>=1.3.0 in ./.venv/lib/python3.12/site-packages (from typer>=0.9.0->chromadb) (1.5.4)\n",
      "Requirement already satisfied: httptools>=0.6.3 in ./.venv/lib/python3.12/site-packages (from uvicorn[standard]>=0.18.3->chromadb) (0.6.4)\n",
      "Requirement already satisfied: uvloop!=0.15.0,!=0.15.1,>=0.14.0 in ./.venv/lib/python3.12/site-packages (from uvicorn[standard]>=0.18.3->chromadb) (0.21.0)\n",
      "Requirement already satisfied: watchfiles>=0.13 in ./.venv/lib/python3.12/site-packages (from uvicorn[standard]>=0.18.3->chromadb) (1.0.4)\n",
      "Requirement already satisfied: websockets>=10.4 in ./.venv/lib/python3.12/site-packages (from uvicorn[standard]>=0.18.3->chromadb) (15.0.1)\n",
      "Collecting soupsieve>1.2 (from beautifulsoup4->wikipedia)\n",
      "  Using cached soupsieve-2.6-py3-none-any.whl.metadata (4.6 kB)\n",
      "Requirement already satisfied: cachetools<6.0,>=2.0.0 in ./.venv/lib/python3.12/site-packages (from google-auth>=1.0.1->kubernetes>=28.1.0->chromadb) (5.5.2)\n",
      "Requirement already satisfied: pyasn1-modules>=0.2.1 in ./.venv/lib/python3.12/site-packages (from google-auth>=1.0.1->kubernetes>=28.1.0->chromadb) (0.4.1)\n",
      "Requirement already satisfied: rsa<5,>=3.1.4 in ./.venv/lib/python3.12/site-packages (from google-auth>=1.0.1->kubernetes>=28.1.0->chromadb) (4.9)\n",
      "Requirement already satisfied: zipp>=3.20 in ./.venv/lib/python3.12/site-packages (from importlib-metadata<8.7.0,>=6.0->opentelemetry-api>=1.2.0->chromadb) (3.21.0)\n",
      "Requirement already satisfied: jsonpointer>=1.9 in ./.venv/lib/python3.12/site-packages (from jsonpatch<2.0,>=1.33->langchain-core<1.0.0,>=0.3.45->langchain) (3.0.0)\n",
      "Requirement already satisfied: mdurl~=0.1 in ./.venv/lib/python3.12/site-packages (from markdown-it-py>=2.2.0->rich>=10.11.0->chromadb) (0.1.2)\n",
      "Requirement already satisfied: networkx in ./.venv/lib/python3.12/site-packages (from torch>=1.11.0->sentence-transformers>=2.6.0->langchain_huggingface) (3.4.2)\n",
      "Requirement already satisfied: jinja2 in ./.venv/lib/python3.12/site-packages (from torch>=1.11.0->sentence-transformers>=2.6.0->langchain_huggingface) (3.1.6)\n",
      "Requirement already satisfied: nvidia-cuda-nvrtc-cu12==12.4.127 in ./.venv/lib/python3.12/site-packages (from torch>=1.11.0->sentence-transformers>=2.6.0->langchain_huggingface) (12.4.127)\n",
      "Requirement already satisfied: nvidia-cuda-runtime-cu12==12.4.127 in ./.venv/lib/python3.12/site-packages (from torch>=1.11.0->sentence-transformers>=2.6.0->langchain_huggingface) (12.4.127)\n",
      "Requirement already satisfied: nvidia-cuda-cupti-cu12==12.4.127 in ./.venv/lib/python3.12/site-packages (from torch>=1.11.0->sentence-transformers>=2.6.0->langchain_huggingface) (12.4.127)\n",
      "Requirement already satisfied: nvidia-cudnn-cu12==9.1.0.70 in ./.venv/lib/python3.12/site-packages (from torch>=1.11.0->sentence-transformers>=2.6.0->langchain_huggingface) (9.1.0.70)\n",
      "Requirement already satisfied: nvidia-cublas-cu12==12.4.5.8 in ./.venv/lib/python3.12/site-packages (from torch>=1.11.0->sentence-transformers>=2.6.0->langchain_huggingface) (12.4.5.8)\n",
      "Requirement already satisfied: nvidia-cufft-cu12==11.2.1.3 in ./.venv/lib/python3.12/site-packages (from torch>=1.11.0->sentence-transformers>=2.6.0->langchain_huggingface) (11.2.1.3)\n",
      "Requirement already satisfied: nvidia-curand-cu12==10.3.5.147 in ./.venv/lib/python3.12/site-packages (from torch>=1.11.0->sentence-transformers>=2.6.0->langchain_huggingface) (10.3.5.147)\n",
      "Requirement already satisfied: nvidia-cusolver-cu12==11.6.1.9 in ./.venv/lib/python3.12/site-packages (from torch>=1.11.0->sentence-transformers>=2.6.0->langchain_huggingface) (11.6.1.9)\n",
      "Requirement already satisfied: nvidia-cusparse-cu12==12.3.1.170 in ./.venv/lib/python3.12/site-packages (from torch>=1.11.0->sentence-transformers>=2.6.0->langchain_huggingface) (12.3.1.170)\n",
      "Requirement already satisfied: nvidia-cusparselt-cu12==0.6.2 in ./.venv/lib/python3.12/site-packages (from torch>=1.11.0->sentence-transformers>=2.6.0->langchain_huggingface) (0.6.2)\n",
      "Requirement already satisfied: nvidia-nccl-cu12==2.21.5 in ./.venv/lib/python3.12/site-packages (from torch>=1.11.0->sentence-transformers>=2.6.0->langchain_huggingface) (2.21.5)\n",
      "Requirement already satisfied: nvidia-nvtx-cu12==12.4.127 in ./.venv/lib/python3.12/site-packages (from torch>=1.11.0->sentence-transformers>=2.6.0->langchain_huggingface) (12.4.127)\n",
      "Requirement already satisfied: nvidia-nvjitlink-cu12==12.4.127 in ./.venv/lib/python3.12/site-packages (from torch>=1.11.0->sentence-transformers>=2.6.0->langchain_huggingface) (12.4.127)\n",
      "Requirement already satisfied: triton==3.2.0 in ./.venv/lib/python3.12/site-packages (from torch>=1.11.0->sentence-transformers>=2.6.0->langchain_huggingface) (3.2.0)\n",
      "Requirement already satisfied: setuptools in ./.venv/lib/python3.12/site-packages (from torch>=1.11.0->sentence-transformers>=2.6.0->langchain_huggingface) (77.0.3)\n",
      "Requirement already satisfied: mpmath<1.4,>=1.1.0 in ./.venv/lib/python3.12/site-packages (from sympy->onnxruntime>=1.14.1->chromadb) (1.3.0)\n",
      "Requirement already satisfied: mypy-extensions>=0.3.0 in ./.venv/lib/python3.12/site-packages (from typing-inspect<1,>=0.4.0->dataclasses-json<0.7,>=0.5.7->langchain_community) (1.0.0)\n",
      "Requirement already satisfied: humanfriendly>=9.1 in ./.venv/lib/python3.12/site-packages (from coloredlogs->onnxruntime>=1.14.1->chromadb) (10.0)\n",
      "Requirement already satisfied: joblib>=1.2.0 in ./.venv/lib/python3.12/site-packages (from scikit-learn->sentence-transformers>=2.6.0->langchain_huggingface) (1.4.2)\n",
      "Requirement already satisfied: threadpoolctl>=3.1.0 in ./.venv/lib/python3.12/site-packages (from scikit-learn->sentence-transformers>=2.6.0->langchain_huggingface) (3.6.0)\n",
      "Requirement already satisfied: pyasn1<0.7.0,>=0.4.6 in ./.venv/lib/python3.12/site-packages (from pyasn1-modules>=0.2.1->google-auth>=1.0.1->kubernetes>=28.1.0->chromadb) (0.6.1)\n",
      "Requirement already satisfied: MarkupSafe>=2.0 in ./.venv/lib/python3.12/site-packages (from jinja2->torch>=1.11.0->sentence-transformers>=2.6.0->langchain_huggingface) (3.0.2)\n",
      "Downloading arxiv-2.1.3-py3-none-any.whl (11 kB)\n",
      "Downloading feedparser-6.0.11-py3-none-any.whl (81 kB)\n",
      "Using cached beautifulsoup4-4.13.3-py3-none-any.whl (186 kB)\n",
      "Using cached soupsieve-2.6-py3-none-any.whl (36 kB)\n",
      "Building wheels for collected packages: wikipedia, sgmllib3k\n",
      "  Building wheel for wikipedia (pyproject.toml) ... \u001b[?25ldone\n",
      "\u001b[?25h  Created wheel for wikipedia: filename=wikipedia-1.4.0-py3-none-any.whl size=11757 sha256=16e42a464874f30e55ed540da410cc5f9ebbdf6ab82022053b7f97394112a542\n",
      "  Stored in directory: /home/connor/.cache/pip/wheels/63/47/7c/a9688349aa74d228ce0a9023229c6c0ac52ca2a40fe87679b8\n",
      "  Building wheel for sgmllib3k (pyproject.toml) ... \u001b[?25ldone\n",
      "\u001b[?25h  Created wheel for sgmllib3k: filename=sgmllib3k-1.0.0-py3-none-any.whl size=6089 sha256=5164e720ce44c49ffa3ce7f9d65c677cf10439b281dc3493f8f2b37113307e52\n",
      "  Stored in directory: /home/connor/.cache/pip/wheels/03/f5/1a/23761066dac1d0e8e683e5fdb27e12de53209d05a4a37e6246\n",
      "Successfully built wikipedia sgmllib3k\n",
      "Installing collected packages: sgmllib3k, soupsieve, feedparser, beautifulsoup4, arxiv, wikipedia\n",
      "Successfully installed arxiv-2.1.3 beautifulsoup4-4.13.3 feedparser-6.0.11 sgmllib3k-1.0.0 soupsieve-2.6 wikipedia-1.4.0\n"
     ]
    }
   ],
   "source": [
    "!pip install -U langchain langgraph cassio langchain_community tiktoken langchain-groq langchainhub chromadb langgraph langchain_huggingface arxiv wikipedia langchain"
   ]
  },
  {
   "cell_type": "markdown",
   "metadata": {},
   "source": []
  },
  {
   "cell_type": "markdown",
   "metadata": {},
   "source": [
    "### Establishing a token with connections\n",
    "\n",
    "Note that I am just saving my tokens in a .json file so it can be `.gitignore`'d.\n",
    "\n",
    "You can get your token and make a database here: https://astra.datastax.com/"
   ]
  },
  {
   "cell_type": "code",
   "execution_count": null,
   "metadata": {},
   "outputs": [],
   "source": [
    "import cassio\n",
    "import json\n",
    "\n",
    "# Save tokens to file\n",
    "# tokens = {\n",
    "#   \"ASTRADB_TOKEN\": \"xyz\",\n",
    "#   \"TEST_DB_ID\": \"abc\"\n",
    "# }\n",
    "# with open(\"tokens.json\", \"w\") as f:\n",
    "#   json.dump(tokens, f)\n",
    "\n",
    "# Retreive the tokens from file\n",
    "with open(\"tokens.json\", \"r\") as f:\n",
    "  tokens = json.load(f)\n",
    "  ASTRADB_TOKEN = tokens[\"ASTRADB_TOKEN\"]\n",
    "  TEST_DB_ID = tokens[\"TEST_DB_ID\"]\n",
    "\n",
    "# Initialize with the connection\n",
    "cassio.init(token=ASTRADB_TOKEN, database_id=TEST_DB_ID)\n"
   ]
  },
  {
   "cell_type": "markdown",
   "metadata": {},
   "source": [
    "## Building Index\n",
    "\n",
    "The following will create a split documents based on urls in food_urls.json. The result is a list of documents as a variable \"docs_split\""
   ]
  },
  {
   "cell_type": "code",
   "execution_count": 39,
   "metadata": {},
   "outputs": [
    {
     "name": "stdout",
     "output_type": "stream",
     "text": [
      "['https://www.thekitchensnob.com/chocolate-lasagna/', 'https://www.modernhoney.com/fettuccine-alfredo/', 'https://momsdish.com/simple-yakisoba-noodles-recipe', 'https://www.onceuponachef.com/recipes/how-to-cook-steak-on-the-stovetop.html', 'https://www.taste.com.au/recipes/easy-fried-rice-3/5c89aa24-1de3-4ddc-9362-e68dfc489dc1?r=quickeasy/biccuul7']\n"
     ]
    },
    {
     "data": {
      "text/plain": [
       "[Document(metadata={'source': 'https://www.thekitchensnob.com/chocolate-lasagna/', 'title': 'Chocolate Lasagna ~ The Kitchen Snob', 'description': 'This chocolate lasagna is a no-baked dessert layered with an oreo crust, cream cheese, chocolate pudding and whipped cream. One of my most popular recipes!', 'language': 'en-US'}, page_content='Chocolate Lasagna ~ The Kitchen Snob\\n\\n\\n\\n\\n\\n\\n\\n\\n\\n\\n\\n\\n\\n\\n\\n\\n\\n\\n\\n\\n\\n\\n\\n\\n\\n\\n\\n\\n\\n\\n\\n\\n\\n\\n\\n\\n\\n\\n\\n\\n\\n\\n\\n\\n \\n\\n\\n\\n\\n\\n\\n\\n\\n\\n\\n\\n\\n\\n\\n\\n\\n\\n\\n\\n\\n\\n\\n \\n\\n\\n\\n\\n\\n\\n\\n\\n\\n \\nCloseMobile MenuSearch this website\\nHome\\nRecipes\\n\\nAppetizers\\nBreakfast\\nMain Dishes\\nSide Dishes\\nVegetarian\\nDesserts\\n\\n\\nTips & Tricks\\nSugar Free\\nLife\\nAbout\\n\\n Menu Skip to right header navigation Skip to primary navigation Skip to main content Skip to primary sidebarMeet The Kitchen Snob\\nHome\\nRecipes\\n\\nAppetizers\\nBreakfast\\nMain Dishes\\nSide Dishes\\nVegetarian\\nDesserts\\n\\n\\nTips & Tricks\\nSugar Free\\nLife\\nAbout\\nHome » Recipes » Desserts » Chocolate LasagnaChocolate Lasagna\\nJune 12, 2014 //\\xa0\\xa0by\\xa0The Kitchen Snob 128 Comments \\n\\t\\tShare for instant karma!\\t\\n\\n\\n\\n63812\\nshares\\n\\n\\n\\n \\n\\n\\nPin63335\\n\\n \\n\\n\\nShare473\\n\\n \\n\\n\\nTweet\\n\\n\\nJump to Recipe·Print Recipe'),\n",
       " Document(metadata={'source': 'https://www.thekitchensnob.com/chocolate-lasagna/', 'title': 'Chocolate Lasagna ~ The Kitchen Snob', 'description': 'This chocolate lasagna is a no-baked dessert layered with an oreo crust, cream cheese, chocolate pudding and whipped cream. One of my most popular recipes!', 'language': 'en-US'}, page_content='This no-bake chocolate lasagna recipe is super easy to make! It’s basically an Oreo cookie crust, layered with cream cheese, chocolate pudding, Cool Whip whipped topping, and mini chocolate chips.\\nWho invented this? Seriously, people. What will the Italians think of next? Fine, it’s not Italian. But doesn’t it make you want to eat this while skipping through one of Tuscany’s fields of sunflowers? The Under the Tuscan Sun soundtrack playing while your hair flies behind you in slow motion.\\nOkay, just me then?\\nLately, I’ve been thinking a lot about my eating habits and know I need to make some drastic changes. I’ve never been really disciplined when it comes to healthy eating.\\nChocolate cake has sabotaged my efforts many times. Oh yeah right. Like it’s my fault. That’s right. I refuse to take responsibility for it. There isn’t a soul alive who can resist chocolate cake’s charm. Okay, maybe Spider-Man. But only because he’s got that cloth over his mouth.\\nCandy, that no-good-jerky-fake-friend, has gotten me into trouble many times. You know those “friends”? You totally get me.\\nAnd bread and I are in a co-dependent relationship. We’ve had some good times. [starts to daydream]\\nSo I’ve been doing some research on health and have started to plan my own intervention. The element of surprise will be key here. Because if I know my “other personality” is going to corner me to discuss nutrition – I’m totally outta there.\\nThe diet intervention. It’s happening. Soooon.\\nBut only after this chocolate lasagna. It’s the bad boy of desserts and I’m feeling adventurous.\\nWho can resist creamy layers of chocolate pudding, sweet cream cheese, whip cream, and a crunchy Oreo cookie crust?\\nNot me! It makes perfect sense to go hog wild and whip up this fun dessert. Wouldn’t you? It’s totally the next logical thing to do.'),\n",
       " Document(metadata={'source': 'https://www.thekitchensnob.com/chocolate-lasagna/', 'title': 'Chocolate Lasagna ~ The Kitchen Snob', 'description': 'This chocolate lasagna is a no-baked dessert layered with an oreo crust, cream cheese, chocolate pudding and whipped cream. One of my most popular recipes!', 'language': 'en-US'}, page_content='A true addict at work here: a last ditch effort to rebel against dietary restrictions. It’ll be my last dessert. Until I can curb my “problems”.'),\n",
       " Document(metadata={'source': 'https://www.thekitchensnob.com/chocolate-lasagna/', 'title': 'Chocolate Lasagna ~ The Kitchen Snob', 'description': 'This chocolate lasagna is a no-baked dessert layered with an oreo crust, cream cheese, chocolate pudding and whipped cream. One of my most popular recipes!', 'language': 'en-US'}, page_content='Won’t you join me? Let’s be bad together!\\nCome on, just one bite isn’t gonna hurt ya. [peer pressure, peer pressure]\\n\\n\\n\\n\\n\\n\\n\\nPrint\\nclock clock iconcutlery cutlery iconflag flag iconfolder folder iconinstagram instagram iconpinterest pinterest iconfacebook facebook iconprint print iconsquares squares iconheart heart iconheart solid heart solid icon\\n\\n\\n \\nChocolate Lasagna\\n\\n\\n      \\t\\t\\t\\t5 Stars\\t\\t\\t        \\t\\t\\t\\t4 Stars\\t\\t\\t        \\t\\t\\t\\t3 Stars\\t\\t\\t        \\t\\t\\t\\t2 Stars\\t\\t\\t        \\t\\t\\t\\t1 Star\\t\\t\\t  \\n5 from 17 reviews\\n\\n\\n\\n\\n\\t\\t\\t\\t\\t\\t\\t\\t\\t\\t\\t\\t\\t\\tAuthor: The Kitchen Snob \\n\\n\\n\\t\\t\\t\\t\\t\\t\\t\\t\\t\\t\\t\\t\\t\\t\\t\\tTotal Time: 1 hour 35 min \\n\\n\\n\\n\\n\\n\\n\\n\\n\\t\\tPrint Recipe\\n\\n\\n\\n\\n\\t\\tPin Recipe\\n\\n\\n\\n\\n\\n\\nIngredients\\n\\n\\n\\nScale\\n1x2x3x \\n\\n\\n\\n\\n36 Oreo cookies (regular, not double stuffed)\\n6 tablespoons butter, melted\\n8 oz cream cheese, softened\\n1/4 cup granulated sugar\\n3 1/4 cups cold milk, plus 2 tablespoons, divided\\n12 oz tub Cool Whip, divided\\n2 – 3.9 oz packages chocolate instant pudding mix\\n1/2 cup mini chocolate chips\\n\\n \\n\\n\\n\\n\\n\\n\\n\\nCook Mode\\n\\n\\t\\t\\t\\tPrevent your screen from going dark\\t\\t\\t\\n\\n\\n\\n\\n\\n\\n\\nInstructions'),\n",
       " Document(metadata={'source': 'https://www.thekitchensnob.com/chocolate-lasagna/', 'title': 'Chocolate Lasagna ~ The Kitchen Snob', 'description': 'This chocolate lasagna is a no-baked dessert layered with an oreo crust, cream cheese, chocolate pudding and whipped cream. One of my most popular recipes!', 'language': 'en-US'}, page_content='In a large food processor, crush Oreo cookies into fine crumbs. Make sure there are no large chunks left.\\nIn a medium bowl, mix melted butter into cookie crumbs using a fork. When the butter is thoroughly mixed in, transfer it to a 9 x 13 inch baking dish. Using a spatula, press the crumbs down into the bottom of the baking dish as evenly as possible. Put baking dish in refrigerator while you work on the next step.\\nIn a medium bowl, mix the cream cheese with an electric beater until fluffy. Add the 2 tablespoons of cold milk and sugar and mix well. With large spoon or spatula, mix in 1 1/4 cups of the Cool Whip until combined. Spread cream cheese mixture over cookie crust. Return baking dish to refrigerator and let chill for 10 minutes.\\nIn a large bowl, mix together chocolate instant pudding and 3 1/4 cups cold milk with electric beater or whisk until the pudding starts to thicken. Spread the pudding over the cream cheese layer. Return baking dish to refrigerator and let chill for 10 more minutes.\\nHave a seat on your couch and dream of how delicious this heavenly dessert is going to be. Start to drool.\\nSpread remaining Cool Whip over the pudding layer and sprinkle mini chocolate chips over the top. (Feel free to use more than 1/2 cup of the chocolate chips if you want more!)\\nChill in fridge for 4 hours or freezer for 1 hour.\\n\\n\\n\\n\\nNotes\\n\\nMore great recipes at www.thekitchensnob.com\\n\\n\\n\\n\\nPrep Time: 35 minCategory: DessertCuisine: American \\n\\n\\n\\n \\n\\n\\n\\n\\nDid you make this recipe?\\nTag @thekitchensnob on Instagram\\n\\n\\n\\n\\n\\nLooking for holiday\\xa0recipes? Try these links from The Kitchen Snob:'),\n",
       " Document(metadata={'source': 'https://www.thekitchensnob.com/chocolate-lasagna/', 'title': 'Chocolate Lasagna ~ The Kitchen Snob', 'description': 'This chocolate lasagna is a no-baked dessert layered with an oreo crust, cream cheese, chocolate pudding and whipped cream. One of my most popular recipes!', 'language': 'en-US'}, page_content='Kicked Up Cranberry Upside Down Cake\\nCranberry Apple Sauce\\nMashed Butternut Squash With Cinnamon and Garlic\\nMarinated Vegetable Salad\\nPumpkin Pie Cream Cheese Spread\\nFall Spiced Cranberry Muffins with Tangerine Glaze\\nPumpkin Banana Bread with Cinnamon Swirl\\nCheesy Scalloped Potatoes with Fontina and Gruyere\\nMashed Potatoes with Caramelized Shallots\\nPumpkin Pie Ice Cream Pops with Whipped Cream and Gingersnap Swirl\\n12 Thanksgiving Side Dishes You Haven’t Tried\\n10 Fall Recipes That Will Make You Look Like A Domestic Diva\\n10 Holiday Salads to Lighten Up Your Feast\\n\\n\\n \\n\\t\\tShare for instant karma!\\t\\n\\n\\n\\n63812\\nshares\\n\\n\\n\\n \\n\\n\\nPin63335\\n\\n \\n\\n\\nShare473\\n\\n \\n\\n\\nTweet\\n\\nMore Recipes You May Like\\n\\n10 Recipes for Your Labor Day Party ShenanigansPeruvian Style Salsa CriollaInstant Pot Lemon Garlic ChickenPumpkin Banana Bread with Cinnamon GlazeCinnamon Explosion Muffins10 Summer Pool Party Recipes to Dive Into10 Spring Recipes You Need To Make Right NowCosta Rican Inspired BreakfastPumpkin Pie Popsicles with Gingersnap SwirlPerfect Fried PlantainsPico de Gallo Recipe (Salsa Fresca)Lomo Saltado  – Peruvian Beef Stir Fry\\nPrevious Post: « Fried Zucchini Parmesan CrispsNext Post: Spaghetti With Brie, Tomato, And Basil »Reader InteractionsComments\\n\\n\\n\\n\\nAlyssa \\nJanuary 4, 2025 at 8:34 PM \\n\\nFound this recipe through Kim (The Wads on YouTube – love her!! Woman across the room 👏🏼).\\nThis was a HIT 👏🏼 so good! Had my family over and made it and everyone loved it. Made the whipped cream myself.\\n\\n\\nReply\\n\\n\\n\\n\\n\\n\\nSylvia Lincoln \\nDecember 23, 2024 at 9:27 AM \\n\\nHow far ahead can you make this recipe?\\n\\nReply\\n\\n\\n\\n\\n\\n\\nThe Kitchen Snob \\nJanuary 3, 2025 at 3:28 PM'),\n",
       " Document(metadata={'source': 'https://www.thekitchensnob.com/chocolate-lasagna/', 'title': 'Chocolate Lasagna ~ The Kitchen Snob', 'description': 'This chocolate lasagna is a no-baked dessert layered with an oreo crust, cream cheese, chocolate pudding and whipped cream. One of my most popular recipes!', 'language': 'en-US'}, page_content='Hi Sylvia. I think you can make this a couple days in advance, but keep in mind that the crust will soften the longer it sits, so it might not be as hard.\\n\\nReply\\n\\n\\n\\n\\n\\n\\n\\n\\nBecka \\nNovember 27, 2024 at 3:26 PM \\n\\nI make this a lot. I crush chocolate chips cookies for the top instead of chocolate chips. 😋\\n\\n\\nReply\\n\\n\\n\\n\\n\\n\\nJeannie \\nNovember 2, 2024 at 9:44 AM \\n\\nCan I substitute the granulated sugar for powdered sugar?\\n\\nReply\\n\\n\\n\\n\\n\\n\\nThe Kitchen Snob \\nNovember 28, 2024 at 6:18 PM \\n\\nHi Jeannie, it is not recommended to substitute powdered sugar.\\n\\nReply\\n\\n\\n\\n\\n\\n\\n\\n\\nJean Chambers \\nAugust 8, 2024 at 4:50 AM \\n\\nIs it OK to use almond milk in this recipe?\\n\\nReply\\n\\n\\n\\n\\n\\n\\nThe Kitchen Snob \\nAugust 22, 2024 at 12:11 PM \\n\\nI’ve never tried almond milk. I would think it would work. If you’ve tried almond milk in regular pudding recipes and it worked, it would work for this recipe.\\n\\nReply\\n\\n\\n\\n\\n\\n\\n\\n\\nKimberly \\nJuly 19, 2024 at 9:24 AM \\n\\nWould homemade whipped cream work instead of Cool-Whip?\\n\\nReply\\n\\n\\n\\n\\n\\n\\nThe Kitchen Snob \\nAugust 22, 2024 at 12:12 PM \\n\\nYes it would work. It just might change the overall flavor but I still think it would be good.\\n\\nReply\\n\\n\\n\\n\\n\\n\\n\\n\\nSw \\nJune 14, 2024 at 10:51 AM \\n\\nHow many would you say this serves on average?\\n\\nReply\\n\\n\\n\\n\\n\\n\\nThe Kitchen Snob \\nAugust 22, 2024 at 12:16 PM \\n\\nI think about 12 good-sized servings.\\n\\nReply\\n\\n\\n\\n\\n\\n\\n\\n\\nLinda Powell \\nMay 17, 2024 at 8:41 AM \\n\\nCan this be put in two 8” dishes and one frozen?\\n\\nReply\\n\\n\\n\\n\\n\\n\\nThe Kitchen Snob \\nMay 28, 2024 at 3:20 PM'),\n",
       " Document(metadata={'source': 'https://www.thekitchensnob.com/chocolate-lasagna/', 'title': 'Chocolate Lasagna ~ The Kitchen Snob', 'description': 'This chocolate lasagna is a no-baked dessert layered with an oreo crust, cream cheese, chocolate pudding and whipped cream. One of my most popular recipes!', 'language': 'en-US'}, page_content='Hi Linda. Yes, you can put make it in any size dish you’d like – just keep in mind that you might you a different amount of the ingredients, like whipped cream for example, if you’re using smaller dish. I haven’t tried freezing this, but I think it would turn out fine.\\n\\nReply\\n\\n\\n\\n\\n\\n\\n\\n\\nGinnie \\nNovember 22, 2023 at 4:46 PM \\n\\nShould this be refrigerated until serving?\\n\\nReply\\n\\n\\n\\n\\n\\n\\nThe Kitchen Snob \\nDecember 19, 2023 at 11:54 AM \\n\\nYes, please refrigerate!\\n\\nReply\\n\\n\\n\\n\\n\\n\\n\\n\\nJanice L Gendron \\nJanuary 16, 2022 at 8:33 PM \\n\\nOne of my all-time faves & go-to’s for office birthday treats! Looks as amazing as it tastes!\\n\\n\\nReply\\n\\n\\n\\n\\n\\n\\nBethany \\nJune 9, 2023 at 12:39 PM \\n\\nThis looks so yummy 😋 I’m going to be making this recipe for my husband’s birthday next Friday June 16th, he says this is mouth watering 😋🤤\\n\\n\\nReply\\n\\n\\n\\n\\n\\n\\n\\n\\nTiffany \\nJuly 16, 2021 at 11:13 AM \\n\\nCan I make this the day before I plan on serving?\\n\\nReply\\n\\n\\n\\n\\n\\n\\nThe Kitchen Snob \\nJuly 25, 2021 at 5:18 PM \\n\\nYes, you can!\\n\\nReply\\n\\n\\n\\n\\n\\n\\n\\n\\nDeena \\nFebruary 10, 2021 at 9:04 AM \\n\\nLOVE this recipe. Super easy to make. Huge hit with my family too. They often ask for it!\\n\\n\\nReply\\n\\n\\n\\n\\n\\n\\nShawnese \\nMarch 25, 2020 at 8:52 AM \\n\\nGoing to try this very soon. I don’t have a food processor. What would you suggest using instead ?\\n\\nReply\\n\\n\\n\\n\\n\\n\\nThe Kitchen Snob \\nMarch 25, 2020 at 11:57 AM'),\n",
       " Document(metadata={'source': 'https://www.thekitchensnob.com/chocolate-lasagna/', 'title': 'Chocolate Lasagna ~ The Kitchen Snob', 'description': 'This chocolate lasagna is a no-baked dessert layered with an oreo crust, cream cheese, chocolate pudding and whipped cream. One of my most popular recipes!', 'language': 'en-US'}, page_content='Hi Shawnese! You could try a blender. I haven’t tried this myself. If you don’t have a blender, you could try putting the cookies in a sealed Ziploc bag and crushing them with a rolling pin. Or you could try putting the cookies in a bowl and crushing them with the bottom of a drinking glass, or something else to mash them with.\\n\\nReply\\n\\n\\n\\n\\n\\n\\nJen C \\nDecember 20, 2020 at 2:14 PM \\n\\nI use a blender to crush the Oreos and it works perfectly. I have made this recipe a number of times and it is always a hit. It is a delicious treat!\\n\\n\\nReply\\n\\n\\n\\n\\n\\n\\nThe Kitchen Snob \\nJanuary 19, 2021 at 3:14 PM \\n\\nThanks, Jen! I’m glad it’s a recipe that you return to.\\n\\nReply\\n\\n\\n\\n\\n\\n\\n\\n\\n« Older Comments \\nLeave a Reply Cancel replyYour email address will not be published. Required fields are marked * \\nRecipe rating\\n       \\t\\t\\t\\t5 Stars\\t\\t\\t         \\t\\t\\t\\t4 Stars\\t\\t\\t         \\t\\t\\t\\t3 Stars\\t\\t\\t         \\t\\t\\t\\t2 Stars\\t\\t\\t         \\t\\t\\t\\t1 Star\\t\\t\\t   \\nComment * Name * \\nEmail * \\nWebsite \\n \\n\\nΔ \\nThis site uses Akismet to reduce spam. Learn how your comment data is processed.Primary SidebarHello fellow food snobbies!\\nIs it a crime to want food to taste so amazing that my eyeballs roll back? If it is, report me to the snob police. But check out some recipes before you do! Read more about me...\\n\\nSummer Recipes\\nMarinated Vegetable Salad\\nKiwi Lime Ice Cream\\nSouthern Sweet Tea Pick-Me-Up Popsicles\\nPeach Iced Tea Pops\\nHoney Lime Cilantro Sauce\\n\\nSubscribe to The Kitchen Snob\\nSign up now to receive free updates delivered to your inbox!'),\n",
       " Document(metadata={'source': 'https://www.thekitchensnob.com/chocolate-lasagna/', 'title': 'Chocolate Lasagna ~ The Kitchen Snob', 'description': 'This chocolate lasagna is a no-baked dessert layered with an oreo crust, cream cheese, chocolate pudding and whipped cream. One of my most popular recipes!', 'language': 'en-US'}, page_content='Recently on the Blog\\n10 Recipes for Your Labor Day Party ShenanigansAugust 17, 2021My Stress Has Its Own LockdownMarch 23, 2020Peruvian Style Salsa CriollaFebruary 17, 2020Instant Pot Lemon Garlic ChickenJanuary 16, 202010 Last Minute Gift Ideas for People Who Love to CookDecember 18, 2019\\nSearch\\nSearch this website\\nCopyright ©\\xa02025 The Kitchen Snob  Privacy Policy \\n\\n\\n\\n \\n\\n\\n473Facebook\\n\\n \\n\\n\\nTwitter\\n\\n \\n\\n\\n63335Pinterest\\n\\n\\n\\n\\n\\n\\n\\n\\n\\n\\n\\n\\n\\n\\n\\n\\n\\n\\n\\n\\n\\n\\n\\n\\n\\n\\n\\n\\nx'),\n",
       " Document(metadata={'source': 'https://www.modernhoney.com/fettuccine-alfredo/', 'title': 'Fettuccine Alfredo – Modern Honey', 'description': 'The best fettuccine alfredo. Fettuccine pasta with a homemade decadent alfredo sauce made with 5 simple ingredients. Quick and easy fettuccine alfredo.', 'language': 'en-US'}, page_content='Fettuccine Alfredo – Modern Honey\\n\\n\\n\\n\\n\\n\\n\\n\\n\\n\\n\\n\\n\\n\\n\\n\\n\\n\\n\\n\\n\\n\\n\\n\\n\\n\\n\\n \\n\\n\\n\\n\\n\\n\\n\\n\\n\\n\\n\\n\\n\\n\\n\\n\\n\\n\\n\\n\\n \\n\\n\\n\\n\\n\\n\\n\\n\\n\\n\\n\\n\\n\\n\\n\\n \\nSkip to contentSign up for free daily recipes! →Recipes\\n\\nDinner\\nDessert\\nSide Dishes\\nAppetizers\\nBreakfast\\nAll Categories\\n\\n\\nTop 20\\nDessert\\nSubscribe\\nAbout\\nSearch\\n\\nHome  Pasta  Fettuccine AlfredoFettuccine AlfredoPosted by Melissa Stadleron  Aug 12, 2018286 CommentsJump to RecipeRate RecipeThis post may contain affiliate links. Please read our disclosure policy.\\n\\nFettuccine Alfredo\\nFettuccine pasta topped with a homemade rich decadent alfredo sauce\\xa0\\nThere are certain recipes that are essential to have in your recipe box and one of them has to be a phenomenal Fettuccine alfredo recipe.\\xa0 Years ago, when I was teaching kids’ cooking classes, this was one of the first things I taught them. Almost every single kid around goes crazy for alfredo sauce! It is so easy to make a homemade alfredo sauce that you will never buy the jarred variety again!\\nThis homemade alfredo sauce is made with simple ingredients — butter, parmesan cheese, garlic, heavy cream, and salt. It’s a 5-ingredient alfredo sauce that is beyond easy!\\n\\nIf you are looking for a lighter version, I created a low-fat fettuccine alfredo version called Skinny Fettuccine Alfredo. You can find the recipe HERE.\\nThis homemade alfredo sauce can be tossed with the pasta so the pasta soaks up all of the sauce or it can be spooned over hot, fresh pasta.\\xa0 I love to use fresh refrigerated fettuccine noodles because it tastes that much better. If you want the fettuccine alfredo to be a little more “saucy” toss the sauce with less than one pound of pasta (you may start with 12 ounces of fettuccine).\\n\\nTips for making PERFECT FETTUCCINE ALFREDO:'),\n",
       " Document(metadata={'source': 'https://www.modernhoney.com/fettuccine-alfredo/', 'title': 'Fettuccine Alfredo – Modern Honey', 'description': 'The best fettuccine alfredo. Fettuccine pasta with a homemade decadent alfredo sauce made with 5 simple ingredients. Quick and easy fettuccine alfredo.', 'language': 'en-US'}, page_content='Start by bringing water to a boil in a large pot. Add salt to the water to season the pasta. Once it is boiling, add pasta and cook according to package instructions.\\nSaute the garlic and butter together until softened — about 1 to 2 minutes.\\nAdd heavy cream and let simmer over medium-high heat for about 5 minutes to thicken. Add salt and pepper to taste. Add half of the parmesan cheese to the mixture and whisk well until smooth.\\nSave some pasta water.\\xa0The pasta water is full of flavor and can be used to thin out the sauce.\\nToss alfredo sauce with fettuccine pasta and add half of the parmesan cheese. Once it is tossed, garnish with the remaining parmesan cheese. Add a little pasta water if it needs to be thinned out.\\nGarnish with Italian parsley, if so desired.\\n\\nPin on PINTEREST:\\n\\n\\xa0\\n\\n\\n\\n\\nPin this now to find it laterPin It\\n\\n\\n\\nSaveSaved\\n\\nPin\\nPrint\\n\\n\\n\\n4.98 from 302 votes\\nFettuccine Alfredo\\nThe perfect homemade fettuccine alfredo using heavy cream, butter, parmesan cheese, and a touch of garlic.\\xa0\\nPrep Time: 5 minutes minutesCook Time: 15 minutes minutesTotal Time: 20 minutes minutes'),\n",
       " Document(metadata={'source': 'https://www.modernhoney.com/fettuccine-alfredo/', 'title': 'Fettuccine Alfredo – Modern Honey', 'description': 'The best fettuccine alfredo. Fettuccine pasta with a homemade decadent alfredo sauce made with 5 simple ingredients. Quick and easy fettuccine alfredo.', 'language': 'en-US'}, page_content='Equipmentspatula setmeasuring cups and spoons\\nIngredients\\xa0\\xa0▢  1 lb Fettuccine Pasta▢ 6 Tablespoons  Butter ▢ 1 Garlic Clove (minced)▢ 1 1/2  cups Heavy Cream ▢ 1/4 teaspoon Salt▢ 1 1/4  cup  Shredded Parmesan Cheese ▢ 1/4  teaspoon  Pepper▢ 2  Tablespoons  Italian Parsley (optional)Get Recipe Ingredients\\nInstructions\\xa0In a large pot, heat water over high heat until boiling. Add salt to season the water. Once it is boiling, add fettuccine and cook according to package instructions.\\xa0In a large skillet or pan, heat butter over medium heat. Add minced garlic and cook for 1 to 2 minutes. Stir in heavy cream.\\xa0Let heavy cream reduce and cook for 5 to 8 minutes.\\xa0Add half of the parmesan cheese to the mixture and whisk well until smooth. Keep over heat and whisk well until cheese is melted.Save some pasta water. The pasta water is full of flavor and can be used to thin out the sauce.Toss alfredo sauce with fettuccine pasta and add half of the parmesan cheese. Once it is tossed, garnish with the remaining parmesan cheese. Add a little pasta water if it needs to be thinned out.Garnish with Italian parsley, if so desired.\\nVideo\\n\\n\\n\\n\\n\\n\\n\\n\\nNotes\\nUse real parmesan cheese, which is refrigerated.\\nIf you like it to be more \"saucy\", you may use less than 1 lb. of fettuccine pasta.\\xa0\\nLeftover pasta water may be used to thin out pasta sauce.\\xa0\\n\\n\\nNutrition information is automatically calculated, so should only be used as an approximation.\\n\\n\\nAdditional Info\\nCourse: DinnerCuisine: ItalianKeyword: Fettuccine Alfredo\\n\\n\\n Like this? Leave a comment below!Jump to Comments\\nI hope you love this fettuccine pasta with homemade alfredo sauce. Happy Cooking, my friends!\\nLike this recipe? Share it with friends!PinFacebookTweetYummlyEmail\\n\\nDinner Pasta Recipes'),\n",
       " Document(metadata={'source': 'https://www.modernhoney.com/fettuccine-alfredo/', 'title': 'Fettuccine Alfredo – Modern Honey', 'description': 'The best fettuccine alfredo. Fettuccine pasta with a homemade decadent alfredo sauce made with 5 simple ingredients. Quick and easy fettuccine alfredo.', 'language': 'en-US'}, page_content=\"Hi, I'm Melissa Stadler!\\nI am an Award-Winning Recipe Creator. Cover of Food Network Magazine. Two-Time Pillsbury Bake-Off Finalist. I am passionate about sharing the best recipes so you have success in the kitchen!\\n\\nMore about Me\\n\\n\\n\\n\\n\\nYou Might Also Like\\nLove at First Bite PastaRicotta MeatballsEasy Mac and Cheese RecipeTortellini Alfredo with Grilled Chicken\\n \\n\\n\\n\\t4.98 from 302 votes (138 ratings without comment)\\n\\t\\t\\n\\n\\nLeave a comment Cancel replyYour email address will not be published. Required fields are marked *\\nRecipe Rating \\n\\nRecipe Rating\\n\\n\\n\\n\\n\\n\\n\\n\\n\\n\\n\\n\\n\\n\\n\\n\\n\\n\\n\\n\\n\\n\\n\\n\\n\\n\\n\\n\\n\\n\\n\\n\\n\\n\\n\\n\\n\\n\\n\\n\\n\\n\\n\\n\\n\\n\\n\\n\\n\\n\\n\\n\\n\\n\\n\\n\\n\\n\\n \\n\\n\\nComment * Name * \\nEmail * \\n Save my name, email, and website in this browser for the next time I comment.\\n Notify me of follow-up comments by email. Notify me of new posts by email. \\n\\nΔ \\n286 Comments \\n\\n\\n\\nPatricia Diane says: \\n\\nMarch 17, 2025 at 8:21 PM \\n\\n\\n\\nMy 8 yr old Grandson is our Fetticine expert.\\nFIVE STARS & A THUMBS 👍\\nWe all agree !!!\\nLove your recipe 😋\\nAnd so easy to make 😊\\n\\nReply \\n\\n\\n\\n\\n\\nSuzanne says: \\n\\nMarch 16, 2025 at 11:05 AM \\n\\n\\n\\nI have made this recipe more times than I can count. It comes out perfectly every single time! I add some chicken to it just so I  get some added protein and oh my gosh, so good!!!! Thank you so much for finally posting the PERFECT fettuccine Alfredo recipe!\\n\\nReply \\n\\n\\n\\n\\n\\nMelissa Stadler says: \\n\\nMarch 16, 2025 at 11:59 AM \\n\\n\\nThank you so much for making this recipe, Suzanne!\\n\\nReply \\n\\n\\n\\n\\n\\n\\n\\nMaggie says: \\n\\nMarch 9, 2025 at 4:29 PM \\n\\n\\n\\nSo fancy and decadent!  I doubled the sauce amount and it was perfect then added chicken. So good!!\\n\\nReply\"),\n",
       " Document(metadata={'source': 'https://www.modernhoney.com/fettuccine-alfredo/', 'title': 'Fettuccine Alfredo – Modern Honey', 'description': 'The best fettuccine alfredo. Fettuccine pasta with a homemade decadent alfredo sauce made with 5 simple ingredients. Quick and easy fettuccine alfredo.', 'language': 'en-US'}, page_content=\"Melissa Stadler says: \\n\\nMarch 12, 2025 at 11:26 AM \\n\\n\\nThank you for making this recipe Maggie!\\n\\nReply \\n\\n\\n\\n\\n\\n\\n\\nLizette Lizarraga says: \\n\\nFebruary 1, 2025 at 10:28 PM \\n\\n\\n\\nWow taste so good and it’s so easy to make thank you my daughter was craving it.\\n\\nReply \\n\\n\\n\\n\\n\\nMelissa Stadler says: \\n\\nFebruary 2, 2025 at 12:24 PM \\n\\n\\nThank you so much for making this recipe, Lizette!\\n\\nReply \\n\\n\\n\\nComment navigationOlder Comments\\n\\n\\n\\n\\n\\nHi, I'm Melissa Stadler!\\nI am an Award-Winning Recipe Creator. Cover of Food Network Magazine. Two-Time Pillsbury Bake-Off Finalist. I am passionate about sharing the best recipes so you have success in the kitchen!\\n\\nMore about Me\\n\\n\\n\\n\\n\\n\\nPopular\\nLevain Bakery Chocolate Chip Crush CookiesThe Best Snickerdoodle Cookie RecipeChinese Orange ChickenHomemade Bakery French Bread\\n\\n\\nRecent Recipes\\nBlueberry Cheesecake Stuffed French ToastFruit Pizza CookiesCoconut Milk ChickenSheet Pan Greek Chicken and Potatoes\\n\\nAs Seen InBack to topModern HoneyWelcome\\n\\nAbout Me\\nContact\\n\\n\\nRecipes\\n\\nAll Recipes\\nDinner\\nDessert\\nBreakfast\\nCookies\\nHealthy\\nSide Dishes\\n\\n\\nLifestyle\\n\\nFamily Life\\n\\n\\nFollow Us\\n\\nInstagram\\nPinterest\\nFacebook\\nTikTok\\n\\n\\n©2025 Modern Honey. All rights reserved. Privacy Policy • Powered by CultivateWP.\\n \\n\\n\\n\\n\\n\\n\\n\\n\\n\\n\\n\\n\\n\\n\\n\\n \\n\\n\\n\\n\\n\\n\\n\\n\\n\\n\\n\\n\\n\\n\\n\\n\\n\\n\\n\\n\\n\\n\\n\\n\\n\\n\\n\\n\\n\\n\\n\\n\\n\\n\\n\\n\\t\\t\\t\\t\\tRate This Recipe\\t\\t\\t\\t\\n\\n\\n\\n\\n\\n\\n\\nYour vote:\\n\\n\\n\\n\\n\\n\\n\\n\\n\\n\\n\\n\\n\\n\\n\\n\\n\\n\\n\\n\\n\\n\\n\\n\\n\\n\\n\\n\\n\\n\\n\\n\\n\\n\\n\\n\\n\\n\\n\\n\\n\\n\\n\\n\\n\\n\\n\\n\\n\\n\\n\\n\\n\\n\\n\\n\\n\\n\\n \\n\\n\\n\\n\\n\\nName *\\n \\n\\nEmail *\\n\\n \\n\\nRate and Review Recipe\\n\\nA rating is required\\nA name is required\\nAn email is required\\n\\n\\n\\n\\n\\n\\n \\n\\n\\n\\n\\n\\n\\n\\n\\t\\t\\t\\t\\tRecipe Ratings without Comment\"),\n",
       " Document(metadata={'source': 'https://www.modernhoney.com/fettuccine-alfredo/', 'title': 'Fettuccine Alfredo – Modern Honey', 'description': 'The best fettuccine alfredo. Fettuccine pasta with a homemade decadent alfredo sauce made with 5 simple ingredients. Quick and easy fettuccine alfredo.', 'language': 'en-US'}, page_content='Something went wrong. Please try again.'),\n",
       " Document(metadata={'source': 'https://momsdish.com/simple-yakisoba-noodles-recipe', 'title': 'Simple Yakisoba Noodles Recipe - Momsdish', 'description': 'Yakisoba is a classic Japanese noodle dish with a salty, sweet and sour sauce. Made in one-pan, this recipe is so easy to make and is always a crowd pleaser.', 'language': 'en-US'}, page_content='Simple Yakisoba Noodles Recipe - Momsdish'),\n",
       " Document(metadata={'source': 'https://momsdish.com/simple-yakisoba-noodles-recipe', 'title': 'Simple Yakisoba Noodles Recipe - Momsdish', 'description': 'Yakisoba is a classic Japanese noodle dish with a salty, sweet and sour sauce. Made in one-pan, this recipe is so easy to make and is always a crowd pleaser.', 'language': 'en-US'}, page_content='Subscribe  10 Must Make Soups! Go!        Momsdish   Search    Search for:        Menu     Go Back    Recipes Natalya’s Story      Instagram Facebook Pinterest     Recipe CategoriesAll RecipesAir FryerBreadBreakfastAll BreakfastAnything EggsCasserolesGrainsPancakes & WafflesPastriesQuick RecipesMain DishesAll Main Dishes15-Minute Recipes30-Minute RecipesAsianItalianKid-Friendly RecipesLow-Carb RecipesMexicanPasta & GrainsPotato DishesSandwichesVegetarianMeatsAll MeatsBeefChickenDuckLambPorkTurkeySaladsSeafoodSides & AppetizersAll Sides & AppetizersFinger FoodsSandwichesSpreads & DipsVeggie SidesSoupsSweets & DessertsAll Sweets & DessertsCakesCookies & BarsCupcakes & MuffinsJello RecipesPastriesPie & CrumbleSimple TreatsSweet BreadsRussian & UkrainianAll Russian & UkrainianAppetizersCakesDumplingsEuropean BreadsEuropean Potato DishesMeatsPasta & GrainsSaladsSeafoodSoupsSweetsMiscellaneousAll MiscellaneousCanningDressing & SauceDrinksJamsSeasoningSnacks & Treats LifesaversAll LifesaversHow ToMeal PlansOtherRecipe RoundupsVideo Guides              Home / Recipes / Main Dishes / Asian        Simple Yakisoba Noodles Recipe    RecipesAll RecipesAir FryerBreadBreakfastMain DishesMeatsSaladsSeafoodSides & AppetizersSoupsSweets & DessertsRussian & UkrainianMiscellaneous LifesaversAll LifesaversHow ToMeal PlansOtherRecipe RoundupsVideo Guides     Jump to Recipe Yakisoba is a classic Japanese noodle dish with a salty, sweet and sour sauce. Made in one-pan, this recipe is so easy to make and is always a crowd pleaser.   Yakisoba noodles have become quite the staple in our home. We love ordering takeout just like the next family, but this recipe is so quick we can whip it up before a'),\n",
       " Document(metadata={'source': 'https://momsdish.com/simple-yakisoba-noodles-recipe', 'title': 'Simple Yakisoba Noodles Recipe - Momsdish', 'description': 'Yakisoba is a classic Japanese noodle dish with a salty, sweet and sour sauce. Made in one-pan, this recipe is so easy to make and is always a crowd pleaser.', 'language': 'en-US'}, page_content='delivery order could even arrive.  These noodles are made with chicken, but if you are craving beef try making Beef Yakisoba instead. Also, feel free to omit the chicken or beef if you are a vegetarian! The noodles are just as delicious meatless or tossed with some grilled tofu instead.  What is Yakisoba? Yakisoba noodles look similar to ramen noodles, but they are slightly different. They are made of wheat and best when stir-fried. A traditional yakisoba dish is made with thin slices of pork, carrots, cabbage, onions and a signature sweet and salty sauce. We love our yakisoba with chicken, but feel free to substitute pork if you so wish!  Ingredients for Yakisoba Noodles  Red Bell Pepper – you can also use green or yellow bell peppers. Carrot – add some color by adding mixed colored carrots. Green Onions – if you don’t have any on hand, you can skip out on it. Boneless Chicken – beef, pork, shrimp, tofu or more veggies are also great options. Cabbage Head – green cabbage is the best in this recipe. Yellow Onion – you can also use white onions. Yakisoba Noodles – ramen noodles, sold in most grocery stores fridge section.    Yakisoba Sauce Ingredients:   Sugar – white sugar will give you the best flavors in this dish. Soy Sauce – low sodium soy sauce will make the best option. Oyster Sauce – that deep flavor, such a great addition to the sauce. Ketchup – this will add a tart and sweet taste to the dish. Worcester Sauce – is a must for the recipe, it gives it a really great deep flavor.  How to Make Yakisoba  Combine all your sauce ingredients together Prep your veggies and cook your noodles.Note: some varieties come precooked and only need a quick reheating.  Cook all your veggies in a skillet until golden brown. Cook your chicken in a separate pan. Add your veggies back into your chicken pan. Add in the sauce and stir to combine.  Add your noodles into the mixture. Cook for a few minutes. Serve!           Where to Buy Yakisoba Noodles Yakisoba noodles are becoming so popular that you can find them in most grocery stores. If you are having a hard time spotting them, your local Asian specialty store will definitely have them. You can'),\n",
       " Document(metadata={'source': 'https://momsdish.com/simple-yakisoba-noodles-recipe', 'title': 'Simple Yakisoba Noodles Recipe - Momsdish', 'description': 'Yakisoba is a classic Japanese noodle dish with a salty, sweet and sour sauce. Made in one-pan, this recipe is so easy to make and is always a crowd pleaser.', 'language': 'en-US'}, page_content='also order them on Amazon in a pinch. As a heads up, yakisoba noodles are sold a couple of different ways. Sometimes they are stored in packages with water and only need to be drained and tossed in the pan. Other times, yakisoba noodles are vacuum-sealed and need to be revived by placing them in cold water to loosen them up before cooking.  Tips for the Best Yakisoba  Prepare all your ingredients ahead of time for easier stir-frying.  Use a wok pan to prepare your noodles if you have one. If you don’t, use a large skillet.  Slice your chicken into thin strips for quicker cooking.  Don’t overcook your yakisoba. This dish has a tendency to dry out if stir-fried too long.   Other Asian Noodle Recipes  Asian noodle dishes are always LOVED in our home. Try your hand at making a couple other of our favorites:   Beef Lo Mein – Most people LOVE chow mein, but have you tried it’s close cousin lo mein?  Japchae Recipe – Korean sweet potato noodles are so addicting. I got this recipe from an old coworker and I have been smitten ever since.  Veggie Lo Mein – This vegetarian dish is perfect for a light lunch or with a fried egg over the top for a filling breakfast.  Spicy Korean Noodles – Craving something spicy? These hot Korean noodles bring the heat.'),\n",
       " Document(metadata={'source': 'https://momsdish.com/simple-yakisoba-noodles-recipe', 'title': 'Simple Yakisoba Noodles Recipe - Momsdish', 'description': 'Yakisoba is a classic Japanese noodle dish with a salty, sweet and sour sauce. Made in one-pan, this recipe is so easy to make and is always a crowd pleaser.', 'language': 'en-US'}, page_content='Recipe       Yakisoba Noodles    Print Pin     Servings 10 Servings  Prep Time 25 minutes minsCook Time 25 minutes minsTotal Time 50 minutes mins      Recipe contributed by: Natalya Drozhzhin Yakisoba is a classic Japanese noodle dish with a salty, sweet and sour sauce. Made in one-pan, this recipe is so easy to make and is always a crowd pleaser.  IngredientsYakisoba Noodles Ingredients 1 tbsp oil avocado or olive1 large red bell pepper1 large carrot1/2 bunch of green onions1 lb boneless chicken1/2 small cabbage head1/2 large yellow onion16 oz yakisoba noodlesYakisoba Sauce Ingredients 2 tsp sugar2 tbsp soy sauce2 tbsp oyster sauce2 tbsp ketchup4 tbsp worcester sauceUS Units – Metric InstructionsCombine the sauce ingredients together. Set it aside. Prepare all veggies for the recipe. Cut them into the size of your preference. Some noodles may need to be preheated in their original packaging. Follow the instructions on the box for the noodles. Cook all vegetables separately in a pan on high heat, just for a few minutes. This will add a golden color to them.  Cook chicken in an oiled skillet until all sides turn golden brown.  Add sautéed veggies and all the sauce ingredients to the pan. Add in noodles to the mixture. Cook for a few minutes and serve.    Nutrition Facts Yakisoba Noodles   Amount Per Serving   Calories 282 Calories from Fat 72    % Daily Value*  Fat 8g12%Saturated Fat 4g20%Cholesterol 29mg10%Sodium 1386mg58%Potassium 426mg12%Carbohydrates 36g12%Fiber 2g8%Sugar 5g6%Protein 16g32%  Vitamin A 1110IU22%Vitamin C 19.2mg23%Calcium 45mg5%Iron 2.7mg15% * Percent Daily Values are based on a 2000 calorie diet.'),\n",
       " Document(metadata={'source': 'https://momsdish.com/simple-yakisoba-noodles-recipe', 'title': 'Simple Yakisoba Noodles Recipe - Momsdish', 'description': 'Yakisoba is a classic Japanese noodle dish with a salty, sweet and sour sauce. Made in one-pan, this recipe is so easy to make and is always a crowd pleaser.', 'language': 'en-US'}, page_content=\"Posted July 5, 2020    About Author       Natalya Drozhzhin  Instagram Facebook Pinterest Twitter  Natalya founded Momsdish to demonstrate that placing a homemade meal on the table is not hard at all. Natalya makes cooking easier and approachable, by simplifying the ingredients, while still producing the same great taste.      You May Also LikeYakisoba – Quick and EasyEasy Sweet and Sour Chicken RecipeEasy Korean Spicy Noodles (with Beef)Spicy Chili Noodles (Quick & Easy)Japchae (Korean Stir-Fried Glass Noodles)Weekly Menu #23      174 Comments  Chelsie KarasFeb 20, 2025Was okay .. something off with the sauce .. it was edible though Show MoreLikeReplyNatalya DrozhzhinFeb 20, 2025Thanks for giving it a try! If something felt off with the sauce, you might be able to tweak it to your taste. Let me know if you give it another shot! Show MoreLikeReplyDianaOct 28, 2024Sadly cannot rate it 0 stars. No connection whatever with the yakisoba. Haven’t had time to do a proper research as I was on the go. Surely this won’t be used again. Disgusting Show More2LikeReplyNatalya DrozhzhinOct 28, 2024I’m sorry to hear the dish wasn’t to your liking. This recipe does have over 15,000 reviews and is quite highly rated, so perhaps something went wrong in the process. If you could share more details about what didn’t work, I’d be happy to help troubleshoot and make sure it turns out delicious if you give it another try! Show More4LikeReplyMarcieAug 6, 2024The sauce taste overwhelmingly like ketchup and Worcestershire sauce. I’ve lived in Japan for many years and this is nothing like what it’s supposed to be. Show More5LikeReplyNatalya DrozhzhinAug 7, 2024Hey Marcie, I'm sorry to hear this dish did not meet your expectations. You can totally adjust the amount of ketchup and Worcestershire sauce and find that perfect balance for your taste! Show More4LikeReplyMarinaAug 1,\"),\n",
       " Document(metadata={'source': 'https://momsdish.com/simple-yakisoba-noodles-recipe', 'title': 'Simple Yakisoba Noodles Recipe - Momsdish', 'description': 'Yakisoba is a classic Japanese noodle dish with a salty, sweet and sour sauce. Made in one-pan, this recipe is so easy to make and is always a crowd pleaser.', 'language': 'en-US'}, page_content=\"2024This recipe has become one of our favorites! My husband and our boys can’t get enough of it. Thank you for a great recipe. Show More5LikeReplyNatalya DrozhzhinAug 1, 2024I’m thrilled to hear that this recipe has become a family favorite! It’s wonderful that your husband and boys are enjoying it so much. Nothing makes me happier than to hear that! Show More5LikeReplyAnneJul 16, 202410/10 would not recommend. Tastes like white people yakisoba. Yucky Show More4LikeReplyNatalya DrozhzhinJul 17, 2024I'm sorry to hear that you didn't enjoy the recipe! Everyone has different tastes, so I appreciate your honest feedback. What changes do you suggest to make it better? Show More5LikeReplyJulia ManchikJun 19, 2024Actually tastes like yakisoba from a restaurant! So good! I made this after trying another yakisoba recipe that didn’t taste much like yakisoba and tasted way too gingery, especially for my kids (this sauce has no ginger and doesnt need it). We all loved the flavor here. I also added lots of broccoli. Show More6LikeReplyNatalya DrozhzhinJun 19, 2024I'm so glad you enjoyed the yakisoba! It's great to hear it tasted just like a restaurant's. Adding broccoli sounds delicious and can never go wrong with more veggies! I'm glad the absence of ginger worked well for you and your family, especially for the kids. Thanks for sharing Julia. Show More5LikeReplyKathleenMar 25, 2024We loved your Yakisoba recipe so much. It is delicious. The sauce and vegetables go together so well. We are vegetarian so we used Baby Bella mushrooms instead of chicken. It’s so good that after we ate I told my son I can’t wait to have this again. Thank you for an accessible, affordable and quick dinner. Show More8LikeReplyNatalya DrozhzhinMar 25, 2024I love that this recipe checks so many boxes! Thanks for sharing your feedback, and I hope you enjoy it many, many more times Kathleen. 🙂 Show More7LikeReplykrista chadwickJan 29, 2024Duper good! Made with only half the noodles because that is what I had. Had to substitute 1/3 of\"),\n",
       " Document(metadata={'source': 'https://momsdish.com/simple-yakisoba-noodles-recipe', 'title': 'Simple Yakisoba Noodles Recipe - Momsdish', 'description': 'Yakisoba is a classic Japanese noodle dish with a salty, sweet and sour sauce. Made in one-pan, this recipe is so easy to make and is always a crowd pleaser.', 'language': 'en-US'}, page_content=\"the oyster sauce for hoisin sauce and used a little less Worcester sauce. This is really quick and very good. Thank you for the recipe! Show More5LikeReplyNatalya DrozhzhinJan 29, 2024I'm so glad you enjoyed this recipe Krista. Thanks for sharing. 🙂 Show More7LikeReplyRene ClotzOct 28, 2023Hi, I just love your recipes. I am not a cook nor a chef. I just like growing the stuff (veg & herbs) we use to make food. I think every family's different ( my son and myself don't like sugar / salt, my hubby loves it and my sister's diabetic - quite a tall order to keep everyone happy). I think it's important to adjust the sugar, salt, herbs, spices, sauces to accommodate what taste the family / friends you're cooking for prefer and / or like .... Happy experimenting with cooking for the family  Rene (South Africa) Show More8LikeReplyNatalya DrozhzhinOct 29, 2023Hey Rene! Thank you for the love. And I agree - always season to taste or preference! Show More7LikeReplynia parry williamsSep 15, 20234 tables spoons of worcestershire sauce is way too much - it over powers it. As does the sugar from the Ketchup, Oyster sauce and TWO tablespoons of sugar. This is sickly and just been rejected by both kids and husband. Really disappointed as wanted to recreate authentic noodles and this was not it. Show More9LikeReplyNatalya DrozhzhinSep 18, 2023Hi Nia, I'm sorry your family wasn't a fan of this dish. Thank you for taking the time to leave feedback. I hope you find a yakisoba noodles recipe that you all love! Show More8LikeReplyKat MillerFeb 7, 2024We just made this tonight and it was delicious! We used organic ketchup with no added sugar and also used low sodium soy sauce - no extra salt and added mushrooms. So good! Thank you! - Seattle Birds Show More8LikeReplyNatalya DrozhzhinFeb 7, 2024Hey Kat, I'm glad you enjoyed it! 🙂 Show More4LikeReplyJohn RhoeAug 26, 2023My Brother-in-law,James taught me how to make this dish and that started all my stir fry adventures. My kids and wife\"),\n",
       " Document(metadata={'source': 'https://momsdish.com/simple-yakisoba-noodles-recipe', 'title': 'Simple Yakisoba Noodles Recipe - Momsdish', 'description': 'Yakisoba is a classic Japanese noodle dish with a salty, sweet and sour sauce. Made in one-pan, this recipe is so easy to make and is always a crowd pleaser.', 'language': 'en-US'}, page_content=\"always loved my stir fries. Lucky me! Show More3LikeReplyNatalya DrozhzhinAug 28, 2023Hi John, We love stir fry too! I'm glad to hear your family loves this recipe as well. Enjoy! 🙂 Show More5LikeReplyDanielAug 8, 20234 tablespoons of Worcester sauce? Show More7LikeReplyNatalya DrozhzhinAug 8, 2023Hey Daniel, Yes, 4 tablespoons - it adds great flavor. However, you can adjust to your taste. Let me know once you try it! Show More5LikeReplyKavita ChopraJun 23, 2023Is Yakisoba Noodles located in Australia ? Show More7LikeReplyNatalya DrozhzhinJun 23, 2023Hello Kavita- I'm not sure about that since I don't live in Australia. I would recommend buying them online if you're unable to find them at a supermarket near you 🙂 Show More5LikeReplyKavita ChopraNov 7, 2023Thank you ! Apologies for the late reply. I'll try searching for them online ! ☺ Show More5LikeReplyDaynaMay 11, 2023I love this recipe. I have made it several times and have found that doubling the sauce and using 3 tbsp of Hoison Sauce and one teaspoon of ketchup is key to making this sauce really great. I have used several different kinds of noodles and it is always great. Thank you for the recipe. It’s one of my favorites! Show More8LikeReplyMPSep 10, 2023I tried your version because I needed to double anyway and this was a fantastic suggestion. It is now my go-to! Thank you so much for taking the time to comment. Show More9LikeReplyNatalya DrozhzhinMay 12, 2023Dayna, this is such a great feedback, I love hearing different versions from readers and I am so glad you found your perfect sauce. I am sure this comment will be helpful to others as well. Thank you for sharing. Show More8LikeReplyJohn RhoeAug 26, 2023I want to try Dayna’s version. Show More7LikeReplyAmyMar 24, 2023The ketchup ruined it. I grew up on authentic yakisoba from a tiny little restaurant run by an old Asian couple. I wanted to make it for my kids, so I was quite excited to find\"),\n",
       " Document(metadata={'source': 'https://momsdish.com/simple-yakisoba-noodles-recipe', 'title': 'Simple Yakisoba Noodles Recipe - Momsdish', 'description': 'Yakisoba is a classic Japanese noodle dish with a salty, sweet and sour sauce. Made in one-pan, this recipe is so easy to make and is always a crowd pleaser.', 'language': 'en-US'}, page_content=\"this recipe…but oh so disappointed with the dish. Back to my search. Show More10LikeReplyNatalya DrozhzhinMar 24, 2023Hey Amy, I am sorry that ketchup ruined it for you. I think all ketchup is not the same and it can really change up the flavor. Also, if you are used to authentic version, this one is going to be slightly different. I am sorry you didnt love it! Show More7LikeReplynatalieJul 21, 2023I live in Japan and this tastes like the Yakisoba I get locally. Great recipe. Show More10LikeReplyJennaFeb 1, 2024I am born & raised in Hawaii, I am Japanese/Okinawan, this recipe sounds exactly on point with a local twist. The only thing I personally would do is add a little more ketchup, & a little Mirin. I'd add sliced Shitake mushrooms for an added earthly umami flavor. So making this dish soon. Thank you Natalya for posting this, looks yummy too! Great job! Show More9LikeReplyNatalya DrozhzhinFeb 2, 2024Thanks for your feedback Jenna! Mushrooms would make a lovely addition to this dish! Enjoy! Show More5LikeReplyNatalya DrozhzhinJul 21, 2023Hi Natalie, That's so great to hear! Thanks for sharing your feedback. Show More7LikeReplyKatieMar 21, 2023Good recipe overall, easy to cook and full of delicious ingredients, but I’m not really sold on the sauce. The ketchup flavor is too strong for me and feels really out of place here, just not what I’m expecting with a yakisoba dish. I ended up using about 2/3 of the sauce and just adding a bunch of soy sauce to the dish and that made it taste great. Next time I’ll probably just omit the ketchup entirely. Show More10LikeReplyNatalya DrozhzhinMar 21, 2023Hi Katie, I appreciate your honest feedback. Thank you for sharing your process with me! Show More28LikeReplyCKFeb 16, 2023From my 7yo “Hi, guess what! When I first ate this yakisoba it was so good, I couldn’t stop eating it. And the night after I ate it, I couldn’t stop thinking about it. I had\"),\n",
       " Document(metadata={'source': 'https://momsdish.com/simple-yakisoba-noodles-recipe', 'title': 'Simple Yakisoba Noodles Recipe - Momsdish', 'description': 'Yakisoba is a classic Japanese noodle dish with a salty, sweet and sour sauce. Made in one-pan, this recipe is so easy to make and is always a crowd pleaser.', 'language': 'en-US'}, page_content=\"dreams about it. Also, I’m a kid.” Show More17LikeReplyNatalya DrozhzhinFeb 16, 2023Lol, this is the best feedback ever! Thanks for sharing 🙂 Show More10LikeReplyAmandaFeb 4, 2023Please tell me the sodium count is a typo because I love the meal 🥲 Show More6LikeReplyNatalya DrozhzhinFeb 5, 2023Hi Amanda, The sodium content is for the whole dish, not per serving. It is as high as it is because of the sauce. If you want to cut down on sodium a bit. you can use an alternative soy sauce, such as liquid aminos. I hope this helps! Show More7LikeReplyLaurie NelsonJan 2, 2023This is absolutely amazing. So good and fun to mix up the veggies. I added broccoli and mushrooms to the traditional cabbage, carrots and onions. I'll never buy take out again. Show More7LikeReplyNatalya DrozhzhinJan 3, 2023I am so thrilled to hear that, Laurie! Thank you for taking the time to leave feedback. Enjoy! Show More9LikeReplyJohnSep 26, 2022Are yakisoba and soba noodles the same? Show More8LikeReplyNatalya DrozhzhinSep 27, 2022Hi John- I don't believe so..soba noodles are buckwheat based (no wheat usually) whereas yakisoba noodles are wheat based. Hope this helps! Show More8LikeReplylouiseJul 11, 2022my partner is allergic to shellfish so oyster sauce is a no no in our house. can you suggest what we could use instead of this please? Show More6LikeReplyBrianJan 4, 2024You could try hoisin sauce with a little soy sauce for saltiness as a substitute for oyster sauce. Show More3LikeReplyNatalya DrozhzhinJan 4, 2024That does sound like a tasty alternative Brian! Thanks for the tip. Show More4LikeReplyAngelAug 16, 2022Louise, I too have fish and shellfish allergies, worcester sauce is made with fish products as well! I would use balsamic vinegar in place of worcester sauce. Show More7LikeReplyNatalya DrozhzhinAug 17, 2022Thank you for that suggestion, Angel! Show More5LikeReplySandyJul 24, 2022You\"),\n",
       " Document(metadata={'source': 'https://momsdish.com/simple-yakisoba-noodles-recipe', 'title': 'Simple Yakisoba Noodles Recipe - Momsdish', 'description': 'Yakisoba is a classic Japanese noodle dish with a salty, sweet and sour sauce. Made in one-pan, this recipe is so easy to make and is always a crowd pleaser.', 'language': 'en-US'}, page_content=\"can try vegetarian oyster sauce it’s made of mushrooms instead of oysters Show More9LikeReplyNatalya DrozhzhinJul 25, 2022That's a great tip- thank you, Sandy! Show More6LikeReplyNatalya DrozhzhinJul 11, 2022Hi Louise, I am pretty sure that you can skip it and the flavor would still be delicious. Please let me know how it goes. Hope this helps! Show More9LikeReplyBruria HadaryJun 6, 2022Which other noodles I can use? Show More8LikeReplyBruria HadaryJun 6, 2022Hi Which noodles I can use instead of Yaksoba noodles? I don't know where to find them. Show More8LikeReplyChrissyJun 14, 2022I use angel hair pasta and if I don't have that I use just use spaghetti noodles. I cook them then rinse with cold water, and then drain them really good and spread them out in a flat container with paper towels underneath them and on top of them to dry them out really well. Then after everything else has been stir fried , I pour oil of your choice on the noodles and mix with hands really well to coat evenly and stir fry the noodles as well. Then combine everything. Show More5LikeReplyNatalya DrozhzhinJun 6, 2022Hi Bruria- I really would recommend yakisoba for the best outcome for this dish. Yakisoba is often found in the refrigerated section of the produce section (like near the fresh herbs, tofu, etc.). Other times Yakisoba will be in the international aisle near other Asian foods. Last, you can always get it on Amazon, there is a link in the post. Hope this helps! Show More7LikeReplyBarbJun 7, 2022Thanks Show More6LikeReplyChris ButterfieldMay 2, 2022You say don't cook too long because it dries out. Yet good yakisoba is only achieved this way. Wet yakisoba is gross. Show More10LikeReplyNatalya DrozhzhinMay 2, 2022Hi Chris - Thanks for the feedback. This is just our preference to not pan-fry them so long that they harden. However, feel free to cook the noodles to your liking. Hope the dish turned out well for you. Show More10LikeReplyKevinApr 3, 2022Making this tonight!! This recipe became our family favorite a while back, we\"),\n",
       " Document(metadata={'source': 'https://momsdish.com/simple-yakisoba-noodles-recipe', 'title': 'Simple Yakisoba Noodles Recipe - Momsdish', 'description': 'Yakisoba is a classic Japanese noodle dish with a salty, sweet and sour sauce. Made in one-pan, this recipe is so easy to make and is always a crowd pleaser.', 'language': 'en-US'}, page_content=\"love it! It’s so tasty, fresh and easy to make. We also like to pair this dish with Korean beef bbq on white rice. So good!!! Tip: prepare and refrigerate the sauce ahead of time and mise en place the chopped/sliced veggies in separate zip lock bags. When it’s time to cook, all you need to do is fire up the stove top and it’s practically time to eat!! Makes cooking on weeknights a snap~ Show More7LikeReplyNatalya DrozhzhinApr 4, 2022Hi Kevin- thank you for the feedback, so glad you are enjoying this recipe! Korean bbq beef sounds so good right now. I love the tip about prepping the sauce and veggies ahead of time- this really is a game changer for busier evenings. Show More7LikeReplyAnnaMar 25, 2022So easy to make and very delicious! I've made this dish multiple times already 🙂 Thank You Natalya for sharing this recipe. Show More7LikeReplyNatalya DrozhzhinMar 26, 2022Thank you, Anna, I'm glad you love this entree! Show More6LikeReplyLilyMar 5, 2022Wish I read comments before making, sauce tasted nothing like any yakisoba we have every had. Gerenal process was good and easy to follow tho. Show More10LikeReplyNatalya DrozhzhinMar 5, 2022Hi Lily- thank you for the feedback. I'm glad this recipe was easy to follow! Show More8LikeReplyLucyDec 19, 2021So yummy. I add some hot sauce and it's so delicious. Thank you for sharing your recipe Show More5LikeReplyNatalya DrozhzhinDec 19, 2021Hi Lucy - Oh yum! The noodles are so bomb with a little sriracha or chili paste. Thanks for the kind words. Show More6LikeReplyAppleDec 17, 2021Hi! I am planning on making this dish for 7 people. Do you think doubling the recipe will be enough to feed everyone? I can't quite tell how big it is, at least from the photos it doesn't seem like it could feed 10 Show More6LikeReplyNatalya DrozhzhinDec 17, 2021Hi Apple - How fun! Sounds like you're having a party. 🙂 It feeds 10, but just to be on the safe side\"),\n",
       " Document(metadata={'source': 'https://momsdish.com/simple-yakisoba-noodles-recipe', 'title': 'Simple Yakisoba Noodles Recipe - Momsdish', 'description': 'Yakisoba is a classic Japanese noodle dish with a salty, sweet and sour sauce. Made in one-pan, this recipe is so easy to make and is always a crowd pleaser.', 'language': 'en-US'}, page_content=\"and to have leftovers you can double the batch. Show More7LikeReplyBeckyOct 20, 2021What can I ise in ace of the oyster sauce? Show More6LikeReplyTheresaNov 5, 2021I used Teriyaki marinade, because I had that on hand. It worked really well, in my opinion. Show More7LikeReplyNatalya DrozhzhinNov 5, 2021Thank you for your feedback, Theresa, this will be super helpful for others! Show More9LikeReplyNatalya DrozhzhinOct 20, 2021Hi Becky, I had some people say they replaced oyster sauce with sweet sauce. Also, someone mentioned they used yakisoba sauce they bought on Amazon. I would recommend buying the sauces because they add a delicious and unique flavor to this yakisoba dish. Hope this helps! Show More9LikeReply    Load More Comments               Hello!  Welcome to my blog! Momsdish is all about less ingredients and approachable cooking. I promise to make you fall in love with cooking. Read my story to see what makes Momsdish so special. Natalya's Story              Momsdish Network     Instagram Facebook Pinterest       Search    Search for:            General  Home Recipes Ebooks   Business  About Contact Us Careers   Legal  Terms of Use Privacy Policy Website Accessibility Policy Disclosure   Social Networks  Facebook Instagram Pinterest Twitter        Copyright momsdish.com, a Timofey, LLC company.   Disclosure: This website is part of Amazon's Associates Program. The pages contain affiliate links that earn us a commission. See full Disclosure. Terms: All content on this website, including the dietary information, are for educational purposes only and not to be considered professional or medical advice. See full Terms.\"),\n",
       " Document(metadata={'source': 'https://www.onceuponachef.com/recipes/how-to-cook-steak-on-the-stovetop.html', 'title': 'How To Cook Steak On The Stovetop - Once Upon a Chef', 'description': \"If you're wondering how to cook a steak that rivals a high-end steak house, the key is mastering the simple technique of pan-searing.\", 'language': 'en-US'}, page_content='How To Cook Steak On The Stovetop - Once Upon a Chef\\n\\n\\n\\n\\n\\n\\n\\n\\n\\n\\n\\n\\n\\n\\n\\n\\n\\n\\n\\n\\n\\n\\n\\n\\n\\n\\n\\n\\n\\n\\n \\n\\n\\n\\n\\n\\n\\n\\n\\n\\n\\n\\n\\n\\n\\n\\n\\n\\n\\n\\n\\n\\n\\n \\n\\n\\n\\n\\n\\n\\n\\n\\n\\n\\n\\n\\n\\n\\n\\n\\n\\n\\n\\n\\n\\n\\n\\n\\n\\n\\n \\n\\n\\n\\n\\n\\n\\n\\n\\n\\n\\n\\n \\n\\n\\n\\n\\n\\n\\n\\n\\n\\n\\n\\n\\n\\n\\n\\n22 Quick and Easy Recipes in 30 Minutes (or less) + 5 Chef Secrets To Make You A Better Cook!\\n\\n\\n\\n\\n\\n\\n \\n\\n\\n\\n\\n\\nClose Menu\\n\\n\\nAboutPro TipsMy Recipe Box \\n\\nRecipesDinnerDessertVegetables & SidesSaladsSoupsAppetizersMost PopularBreakfast & BrunchBread RecipesSnacksDrinksVegetarianQuick & EasyHolidaysSauces & DressingsMake-AheadFreezer-FriendlyGluten-Free AdaptableMost RecentCookbooksSearch \\n\\n\\n\\nMenu\\nSearch\\n\\n\\n\\n\\n\\n\\n\\n\\nClose Search\\n\\n\\nFind a Recipe\\n\\n\\nSearch\\n\\n \\n\\n\\n\\n\\n\\n\\n\\n\\n\\n\\n\\n\\n\\nHome  Recipes  Dinner  Beef, Lamb, Veal & Pork\\n\\n\\n\\nHow To Cook Steak On The Stovetop\\nJump to Recipe\\n\\n\\n\\t\\t\\t\\t\\t\\tBy Jennifer Segal\\n\\n\\n\\nUpdated March 19, 2023\\n\\n\\n\\n\\n \\n\\n\\n4.37 (151 reviews)\\n\\n\\n\\n213 Comments\\nLeave a Review\\n\\n\\n\\n\\n\\nSharePinEmailTweet\\n\\n Save Recipe\\n\\n\\n\\n\\n\\n\\n\\nThis post may contain affiliate links. Read my full disclosure policy.\\nPan-searing is the best—and easiest—way to cook a steak. Master this technique to whip up a steak that rivals your favorite steakhouse.'),\n",
       " Document(metadata={'source': 'https://www.onceuponachef.com/recipes/how-to-cook-steak-on-the-stovetop.html', 'title': 'How To Cook Steak On The Stovetop - Once Upon a Chef', 'description': \"If you're wondering how to cook a steak that rivals a high-end steak house, the key is mastering the simple technique of pan-searing.\", 'language': 'en-US'}, page_content='I love the kind of dinner you can whip up without relying on a recipe. Truth be told, good cooking is more about mastering techniques than following recipes, and the best dishes are often the simplest to make. A perfectly cooked steak is a prime example. With just a handful of ingredients and a single pan, you can prepare a steak that rivals anything you’d enjoy at a high-end steakhouse.\\nThe secret is mastering the art of pan-searing. This classic technique involves cooking the surface of your food undisturbed in a piping hot pan until a crisp, golden-brown, and flavorful crust forms. It’s the key to building flavor and texture in a dish while preventing sticking and giving your meal a restaurant-quality appearance. Pan-searing is hands-down the best way to cook a steak\\xa0 (it works wonders for salmon and scallops, too), and it also happens to be incredibly easy.\\n\\nWhat you’ll need to Cook Steak on The Stovetop\\n\\nWhen it comes to beef, the best candidates for pan-searing are boneless, quick-cooking cuts between one and one-and-a-half inches thick, such as NY Strip, rib eye or filet mignon. (For larger or slow-cooking cuts, like beef tenderloin with red wine sauce or beef stew with carrots and potatoes, pan-searing is usually the first step, and then you finish the cooking in the oven.)\\nHow to cook steak On The Stovetop\\nTo begin, pat the steak dry with paper towels. (Any moisture on the exterior of the steak must first evaporate before the meat begins to brown.)\\nSeason the steaks generously on both sides with salt and pepper; the seasoning will stick to the surface and help create a delicious crust.'),\n",
       " Document(metadata={'source': 'https://www.onceuponachef.com/recipes/how-to-cook-steak-on-the-stovetop.html', 'title': 'How To Cook Steak On The Stovetop - Once Upon a Chef', 'description': \"If you're wondering how to cook a steak that rivals a high-end steak house, the key is mastering the simple technique of pan-searing.\", 'language': 'en-US'}, page_content='Turn on your exhaust fan and heat a heavy pan over medium-high heat until it’s VERY hot. The best pans for pan-searing are stainless steel or cast-iron since they can withstand high temperatures.\\nAdd the oil to the pan. You’ll know it’s hot enough when it begins to shimmer and move fluidly around the pan.\\nCarefully set the steak in the pan, releasing it away from you so the oil doesn’t splatter in your direction. It should sizzle. (Use a pan that is large enough that it’s not such a tight fit or the pan will cool down and your food will steam instead of sear.)\\n\\nLeave it alone! Avoid the temptation to peek or fiddle or flip repeatedly. The steaks need a few minutes undisturbed to develop a brown crust. (Don’t worry about sticking; the steaks will release easily when they are ready to flip.)\\nFlip the steaks when they release easily and the bottom is a deep-brown color (usually about 3 minutes).\\n\\nContinue to cook the steaks for another 3 to 4 minutes on the bottom side for rare or medium-rare.\\nDuring the last minute of cooking, add 1 tablespoon of butter and a few sprigs of fresh thyme to the pan with the steaks (this is optional but delicious).\\n\\nIf you are serving the steaks unsliced, transfer them to plates and serve hot. If you plan to slice the steaks, transfer them to a cutting board and let rest, covered with aluminum foil, for 5 to 10 minutes; then slice thinly against the grain. (Resting allows the juices to redistribute from the outside of the steaks; if you slice them too soon, the juices will pour out of them.)\\nVideo Tutorial\\n\\n\\n\\n\\n\\n\\n\\nYou May Also Like\\n\\nBeef Stew with Carrots & Potatoes\\nRoast Beef Tenderloin with Red Wine Sauce\\nRestaurant-Style Pan-Seared Salmon\\nRed Wine Braised Short Ribs\\nSteak Au Poivre\\nWedge Salad with Blue Cheese Dressing\\n\\n\\n\\n\\n\\nRecipeComments (213)Add Comment \\n\\n\\n\\n\\n\\nPrint\\nPan-Seared Steaks\\n\\nBy Jennifer Segal'),\n",
       " Document(metadata={'source': 'https://www.onceuponachef.com/recipes/how-to-cook-steak-on-the-stovetop.html', 'title': 'How To Cook Steak On The Stovetop - Once Upon a Chef', 'description': \"If you're wondering how to cook a steak that rivals a high-end steak house, the key is mastering the simple technique of pan-searing.\", 'language': 'en-US'}, page_content=\"Pan-searing is the best—and easiest—way to cook a steak. Master this technique to whip up a steak that rivals your favorite steakhouse.\\n\\n\\nServings: 2 to 4\\nPrep Time: 4 Minutes\\nCook Time: 6 Minutes\\nTotal Time: 10 Minutes\\n\\n\\nIngredients\\n\\n2 (12-oz) New York strip or ribeye steaks or 4 (6-oz) filet mignons, about 1½ inches thick\\n1 heaping teaspoon kosher salt\\n½ teaspoon freshly ground black pepper\\n2 tablespoons vegetable oil\\n1 tablespoon unsalted butter\\nA few sprigs fresh thyme leaves\\n\\n\\n\\nInstructions\\n\\nTo begin, pat the steaks dry with paper towels. \\nSeason the steaks all over with the salt and pepper.\\nTurn on your exhaust fan and heat a heavy pan (preferably cast iron or stainless steel) over medium-high heat until it's VERY hot. \\nAdd the oil to the pan and heat until it begins to shimmer and move fluidly around the pan.\\nCarefully set the steaks in the pan, releasing them away from you so the oil doesn’t splatter in your direction. The oil should sizzle. \\nLeave the steaks alone! Avoid the temptation to peek or fiddle or flip repeatedly; the steaks need a few minutes undisturbed to develop a golden crust. Flip the steaks when they release easily and the bottom is a deep-brown color, about 3 minutes.  Continue to cook the steaks for another 3 to 4 minutes on the second side for rare to medium-rare. (For medium, cook 4 to 5 minutes on second side; for well-done, cook 5 to 6 minutes on second side). \\nDuring the last minute of cooking, add the butter and thyme sprigs to the pan with the steaks.\\nIf you are serving the steaks unsliced, transfer them to plates and serve hot. If you plan to slice the steaks, transfer them to a cutting board and let rest, covered with aluminum foil, for 5 to 10 minutes; then slice thinly against the grain. \\n\\n\\n\\nPair with\\n\\n\\n\\n\\n\\nWedge Salad\\n\\n\\n\\n\\nCreamed Spinach\\n\\n\\n\\n\\nCrispy Roasted Potatoes\"),\n",
       " Document(metadata={'source': 'https://www.onceuponachef.com/recipes/how-to-cook-steak-on-the-stovetop.html', 'title': 'How To Cook Steak On The Stovetop - Once Upon a Chef', 'description': \"If you're wondering how to cook a steak that rivals a high-end steak house, the key is mastering the simple technique of pan-searing.\", 'language': 'en-US'}, page_content='Nutrition InformationPowered by Per serving (4 servings)\\nServing size: 6-oz portion NY Strip\\nCalories: 492\\nFat: 39 g\\nSaturated fat: 14 g\\nProtein: 33 g\\n Sodium: 421 mg\\nCholesterol: 147 mg\\n\\nNutritional Data DisclaimerThis website is written and produced for informational purposes only. I am not a certified nutritionist and the nutritional data on this site has not been evaluated or approved by a nutritionist or the Food and Drug Administration. Nutritional information is offered as a courtesy and should not be construed as a guarantee. The data is calculated through an online nutritional calculator, Edamam.com. Although I do my best to provide accurate nutritional information, these figures should be considered estimates only. Varying factors such as product types or brands purchased, natural fluctuations in fresh produce, and the way ingredients are processed change the effective nutritional information in any given recipe. Furthermore, different online calculators provide different results depending on their own nutrition fact sources and algorithms. To obtain the most accurate nutritional information in a given recipe, you should calculate the nutritional information with the actual ingredients used in your recipe, using your preferred nutrition calculator.\\nSee more recipes:\\n\\nBeef, Lamb, Veal & PorkDinnerHow To & ResourcesQuick & EasyRecipesAmerican \\n\\n\\n\\nComments\\n\\n\\n\\n\\n\\n\\n\\n \\n\\n\\nSo I’ve just started to get into cooking in the past year and decided to buy some steaks to force myself to try a recipe and found this. I modified it just slightly and added some lemon-pepper rub with the salt and pepper and probably used more butter than originally called for. It browned VERY quickly for me after 3 mins at med-high so I did take the pan off and set it aside on another stove top, not in use, before flipping and finishing the other side off back on the stove. Towards the end I flipped it every so often until I felt it was good. IT WAS SOOO GOOOD!! Very tender, juicy, and had a perfect medium pink to the inside. I originally had 2 sirloins that I was going to eat one and save the other for the next day, but DADGUM, ended up easily polishing both off. Directions were easy enough and having pictures was very helpful. Thanks for the recipe share and making me more excited to cook!'),\n",
       " Document(metadata={'source': 'https://www.onceuponachef.com/recipes/how-to-cook-steak-on-the-stovetop.html', 'title': 'How To Cook Steak On The Stovetop - Once Upon a Chef', 'description': \"If you're wondering how to cook a steak that rivals a high-end steak house, the key is mastering the simple technique of pan-searing.\", 'language': 'en-US'}, page_content='— Grant on February 20, 2025Reply \\n\\n\\n\\n\\n\\n\\n\\n\\n\\n \\n\\n\\nI’ve made it three times and it’s been great each time. Easy and delicious. This and the baked potato and creamed spinach make my husband feel like we’re out on the town.\\n\\n\\n\\n— Bette S Levin on December 31, 2024Reply \\n\\n\\n\\n\\n\\n\\n\\n\\n\\n \\n\\n\\nNot much taste, oil needs to be substituted with butter to avoid smoking.\\n\\n\\n\\n— Davis on December 25, 2024Reply \\n\\n\\n\\n\\n\\n\\n\\n\\n\\n \\n\\n\\nButter’s smoke point is 350 F.  Canola oil is 400-450 F, as are most vegetable oils.  \\nDavis, a little research will help you avoid this kind of mistake.\\n(You should also have read in this recipe that it does call for butter, not to fry the steak but to add flavor at the end….)\\n\\n\\n\\n— Squirrel Butler on December 29, 2024Reply \\n\\n\\n\\n\\n\\n\\n\\n\\nyou should add garlic power and thyme and make sure to add butter and oil do both but the oil first then after you let it crust add butter. the exaust is important to cut down on smoke (and its sposed to smoke some).\\n\\n\\n\\n— esse on February 27, 2025Reply \\n\\n\\n\\n\\n\\n\\n\\n\\n\\n\\n\\n \\n\\n\\nFound these instructions easy to follow. Cut of choice was ribeye.  End result was a juicy medium-rare steak that seared as Jenn indicated it would and released in the pan when it was ready to turn. Added butter for the finale. This is the first steak I’ve cooked; won’t be the last!\\n\\n\\n\\n— Sheridan on September 17, 2024Reply \\n\\n\\n\\n\\n\\n\\n\\n\\n\\nThank you so much for the recipe! It was the perfect steak! 🥩 \\nAlicia Milian\\nFlorida\\n\\n\\n\\n— Alicia Milian on August 30, 2024Reply \\n\\n\\n\\n\\n\\n\\n\\n\\n\\n \\n\\n\\nHorrible idea. Followed directions exactly. High heat, let steak on for three minutes.\\nTurned it over and it was a horrible black color.\\nPlease, tell us the temperature to set the oil. Not just some magic “until it shimmers and releases it’s spirits”. An actual temperature.'),\n",
       " Document(metadata={'source': 'https://www.onceuponachef.com/recipes/how-to-cook-steak-on-the-stovetop.html', 'title': 'How To Cook Steak On The Stovetop - Once Upon a Chef', 'description': \"If you're wondering how to cook a steak that rivals a high-end steak house, the key is mastering the simple technique of pan-searing.\", 'language': 'en-US'}, page_content='— George on June 27, 2024Reply \\n\\n\\n\\n\\n\\n\\n\\n\\n\\n \\n\\n\\nThis was so easy and so good! I cooked on an electric stove set at 7/10, three minutes on the first side and four minutes on the second. One of my steaks was thicker than the other (1 inch versus about 3/4 inch), and the smaller one came out medium-well instead of medium, which is what I was aiming for. They were both delicious, though.\\nI’m a decent home cook but have never cooked steaks before. Now that I know how easy it is, I see a lot more steak dinners in my future.\\n\\n\\n\\n— Jaclyn on August 3, 2024Reply \\n\\n\\n\\n\\n\\n\\n\\n\\n\\n\\n\\n \\n\\n\\nI’m a college student figuring out how to cook on my own and this recipe worked great! I overcooked it a little over my liking but that was entirely on me as my cut was too thin (and cheap, lol). Still came out juicy and tasted amazing though!! The instructions were easy to follow and I will definitely be bookmarking this in the future 🙂\\n\\n\\n\\n— Will on June 19, 2024Reply \\n\\n\\n\\n\\n\\n\\n\\n\\n\\n \\n\\n\\nExcellent recipe!  Easy to do, and the timing you give for how long to cook the steak based on how you like them done was quite spot on.  If you’re like me, and when your server at a restaurant asks how you like your steak done you say, “Chase the cow around the room with a match,” I’d reduce the time on both sides of the steak by a minute each.  🙂\\n\\n\\n\\n— Stephanos on June 15, 2024Reply \\n\\n\\n\\n\\n\\n\\nLoad More \\n\\n\\n\\n\\nAdd a Comment Cancel reply\\nRate the recipe: 5 stars means you loved it, 1 star means you really disliked it \\n\\nRate the recipe: 5 stars means you loved it, 1 star means you really disliked it'),\n",
       " Document(metadata={'source': 'https://www.onceuponachef.com/recipes/how-to-cook-steak-on-the-stovetop.html', 'title': 'How To Cook Steak On The Stovetop - Once Upon a Chef', 'description': \"If you're wondering how to cook a steak that rivals a high-end steak house, the key is mastering the simple technique of pan-searing.\", 'language': 'en-US'}, page_content=\"Your comment * Rate the recipe: 5 stars means you loved it, 1 star means you really disliked it Your name * \\nYour email (will not be published) * \\n Save my name, email, and website in this browser for the next time I comment.\\n \\n\\nΔ \\nThis site uses Akismet to reduce spam. Learn how your comment data is processed. \\n\\n\\n\\n\\n\\n\\nSharePinEmailTweet\\n\\n \\n\\n\\n\\n\\n\\nWelcome - I'm Jennifer Segal - Classically Trained Chef, Cookbook Author & Busy Mom\\nOnce upon a time, I went to culinary school and worked in fancy restaurants. Now, I’m cooking for my family and sharing all my tested & perfected recipes with you here! Read more…\\n \\nFacebookPinterestInstagramAmazon \\n\\n\\n\\n\\n\\n\\n\\n\\nSpring Recipes\\n\\n\\n\\nAsparagus Soup with Lemon and Parmesan\\n\\n\\n\\nStrawberry Shortcake\\n\\n\\n\\nBaked Salmon with Panko-Dill Crust\\n\\n\\n\\nStrawberry Rhubarb Crisp\\n\\n\\n\\nDeviled Eggs\\n\\n\\n\\nClassic Chicken Salad\\n\\n\\n\\nPopular Recipes\\n\\n\\n\\nBaked Ziti\\n\\n\\n\\nStuffed Peppers\\n\\n\\n\\nChicken Marsala\\n\\n\\n\\nHomemade Pancake Recipe\\n\\n\\n\\nHomemade Caesar Salad Dressing\\n\\n\\n\\nUltimate Fudgy Brownie Recipe\\n\\n\\n\\n\\n \\n\\n\\n\\n\\n\\n\\n\\n\\n\\n22 Quick and Easy Recipes in 30 Minutes (or less)\\nPlus 5 Chef Secrets To Make You A Better Cook!\\n\\n\\n\\n\\n\\n\\n\\n\\n\\n\\nCooking Question?\\n\\n\\n\\n\\n\\n\\n\\nYour question*Name*\\n\\nEmail*\\n\\nThis site is protected by reCAPTCHA and the Google Privacy Policy and Terms of Service apply.CommentsThis field is for validation purposes and should be left unchanged.\\n \\n\\n\\n\\n\\n\\n\\n\\n\\n\\n\\n\\nΔ\\n\\n \\n\\n\\n\\n\\n\\n \\n\\nAs Featured On\\n\\n\\n\\n \\n\\n\\n\\n\\n\\n\\n\\n\\n\\n\\nTested & Perfected Recipes\\nSign up to receive my weekly newsletter!\\n\\n\\n\\nFacebookPinterestInstagramAmazon\\n\\n\\n\\n\\nRecipe IndexPopular RecipesQuick & Easy RecipesCookbooks \\n\\nAboutContact \\n\\n\\n\\n© 2025 Jennifer SegalPrivacy PolicyAccessibility StatementDesign by cre8d\"),\n",
       " Document(metadata={'source': 'https://www.onceuponachef.com/recipes/how-to-cook-steak-on-the-stovetop.html', 'title': 'How To Cook Steak On The Stovetop - Once Upon a Chef', 'description': \"If you're wondering how to cook a steak that rivals a high-end steak house, the key is mastering the simple technique of pan-searing.\", 'language': 'en-US'}, page_content='Buy Now\\n\\n\\n\\n\\n\\n\\n\\nBuy Now'),\n",
       " Document(metadata={'source': 'https://www.taste.com.au/recipes/easy-fried-rice-3/5c89aa24-1de3-4ddc-9362-e68dfc489dc1?r=quickeasy/biccuul7', 'title': 'Easy fried rice recipe', 'description': \"Fried rice has long been a staple of Aussie takeaway dinners. And, while we might all have our favourite restaurant that makes Chinese fried rice just the way we like it, satisfying fried rice is a dish that's surprisingly easy to replicate at home. It's also a great way to use up any freshly cooked\", 'language': 'en'}, page_content='Easy fried rice recipe\\n\\n\\n\\n\\n\\n\\n\\n\\n\\n\\n\\n\\n\\n\\n\\n\\n\\n\\n\\n\\n\\n\\n\\n\\n\\n\\n\\n\\n\\n\\n \\n \\n\\n\\n\\n\\n\\n\\n\\n\\n\\n \\n\\n\\n\\n\\n\\n\\n\\n\\n\\n\\n\\n\\nLog In\\n|\\nSign Up\\n\\n\\n\\n\\n\\n\\n\\n\\n\\n\\n\\n\\n\\n\\n\\n\\n\\n\\n\\n\\nRecipes\\nDinner\\nQuick & Easy\\nHealthy\\nBaking\\nEntertaining\\nTest Kitchen\\nFood News\\nTaste the World\\nVideo\\nWin!\\n\\nMore\\n\\n Taste the World\\n\\n Video\\n\\n Win!\\n\\n\\n\\n\\n\\n\\n\\n\\n\\n\\n\\n\\n\\n\\n\\n\\n\\n\\n\\n\\n\\n\\nTop Rated\\nQuick and Easy\\nSide dishes\\nAsian\\n\\n\\nEasy fried rice recipe\\n\\n\\n\\n\\n244 ratings\\n\\n\\nPrep                \\n                            10m\\n            \\nCook                \\n                            30m\\n            \\n\\n                    Serves4\\n\\n\\n\\n\\n\\n\\n\\n\\n\\n\\n\\n\\n\\n\\n\\n\\n\\n\\nJump to recipe\\n\\n\\n\\n12,388\\n \\n\\n\\n\\n\\n\\nSave\\n\\n\\n\\n\\n\\n\\n\\n\\n\\n\\n\\n\\n                                                Tracy Rutherford'),\n",
       " Document(metadata={'source': 'https://www.taste.com.au/recipes/easy-fried-rice-3/5c89aa24-1de3-4ddc-9362-e68dfc489dc1?r=quickeasy/biccuul7', 'title': 'Easy fried rice recipe', 'description': \"Fried rice has long been a staple of Aussie takeaway dinners. And, while we might all have our favourite restaurant that makes Chinese fried rice just the way we like it, satisfying fried rice is a dish that's surprisingly easy to replicate at home. It's also a great way to use up any freshly cooked\", 'language': 'en'}, page_content=\"Fried rice has long been a staple of Aussie takeaway dinners. And, while we might all have our favourite restaurant that makes Chinese fried rice just the way we like it, satisfying fried rice is a dish that's surprisingly easy to replicate at home. It's also a great way to use up any freshly cooked rice that's been leftover from the night before.\\nWe've been making this particular fried rice recipe for more than 20 years, and it's the version we keep coming back to again and again. Why? It manages to pack in a lot of flavour for surprisingly little effort, and, if you follow our step-by-step tips, you really can create a DIY fried rice dish to rival your local takeaway joint.\\n\\nWhat makes this our best fried rice recipe?\\nIn this super simple egg fried rice recipe we use pantry and fridge staples, but the beauty of basic fried rice recipes is that you can always adjust the ingredients based on what you happen to have on hand at any given time.\\nThe real secret here is to use a large fry pan or wok on a very high heat so the rice is fried and golden, rather than steamed or gluggy. Cooking it this way ensures the fried rice still has bite and absorbs the lovely flavours of the bacon and soy, without resembling a risotto!\\n\\nEasy fried rice: key ingredients\"),\n",
       " Document(metadata={'source': 'https://www.taste.com.au/recipes/easy-fried-rice-3/5c89aa24-1de3-4ddc-9362-e68dfc489dc1?r=quickeasy/biccuul7', 'title': 'Easy fried rice recipe', 'description': \"Fried rice has long been a staple of Aussie takeaway dinners. And, while we might all have our favourite restaurant that makes Chinese fried rice just the way we like it, satisfying fried rice is a dish that's surprisingly easy to replicate at home. It's also a great way to use up any freshly cooked\", 'language': 'en'}, page_content=\"White, long grain rice. Your fried rice will turn out best if you use cold, long-grain rice (like jasmine rice). It's really important to properly cool the rice down so if you're in a rush and just cooked the rice, spread it thinly on a tray, cover loosely with some cling wrap and pop in the fridge until cool.\\nSoy sauce. We usually use whatever soy sauce is on hand, but of course you can use gluten-free soy sauce (tamari) or low-sodium soy sauce instead and still create a flavourful fried rice.\\nOil: A good neutral vegetable oil works best for frying, but you can add sesame for added flavour, if you like.\\nBacon: While we do think the bacon really helps the flavours in this dish, if you don't have it to hand, we have used ham as an alternative.\\nPeas: frozen peas that have been thawed beforehand works best.\\nCarrot: Adds colour and texture. We prefer grated or very finely julienned in this recipe.\\nEggs: We form an omelette with the eggs to mix through our fried rice, but you could always create a scrambled eggs texture, if you prefer.\\nShallots: Don't be tempted to skip these. They add colour, flavour and texture. If you've got a fussy eater in your household, you can dial them back a touch, but they really do help round out the flavours of the dish.\\nAdditions: Have some sesame oil and oyster sauce on hand? Brilliant! (We've listed vegetable oil here, but sesame oil brings extra flavour to your plate, as does a splash of oyster sauce or fish sauce). A great way to use up leftover veggies and protein, fried rice recipes can be bolstered with plenty of healthy ingredients and can easily be made vegetarian or vegan.\\n\\nYou could also jazz things up with kimchi to make a kimchi fried rice.\"),\n",
       " Document(metadata={'source': 'https://www.taste.com.au/recipes/easy-fried-rice-3/5c89aa24-1de3-4ddc-9362-e68dfc489dc1?r=quickeasy/biccuul7', 'title': 'Easy fried rice recipe', 'description': \"Fried rice has long been a staple of Aussie takeaway dinners. And, while we might all have our favourite restaurant that makes Chinese fried rice just the way we like it, satisfying fried rice is a dish that's surprisingly easy to replicate at home. It's also a great way to use up any freshly cooked\", 'language': 'en'}, page_content=\"If you'd like to make a low FODMAP version of this fried rice, check out our tips in the Notes section of this recipe.\\nOnce you've mastered how to cook this simple egg fried rice recipe, why not explore more variations with our easy fried rice recipes collection? And, if you're after something really lazy, our easy, oven-baked, one-tray fried rice is a great option to try.\\n Additional recipe notes by Alison Adams - Food Writer and Recipe Tester\\nHow to make our best easy fried rice: get the full recipe below\\n\\n\\n\\nRead more\\n\\n\\n\\n\\n\\n\\n\\nIngredients (10)\\n\\nIngredients (10)\\n\\n\\n\\n\\n                                                                                1 cup Coles Long Grain White Rice\\n\\n\\n\\n\\n                                                    2 tsp vegetable oil\\n                                                                    \\n\\n\\n\\n                                                    2 eggs, lightly whisked\"),\n",
       " Document(metadata={'source': 'https://www.taste.com.au/recipes/easy-fried-rice-3/5c89aa24-1de3-4ddc-9362-e68dfc489dc1?r=quickeasy/biccuul7', 'title': 'Easy fried rice recipe', 'description': \"Fried rice has long been a staple of Aussie takeaway dinners. And, while we might all have our favourite restaurant that makes Chinese fried rice just the way we like it, satisfying fried rice is a dish that's surprisingly easy to replicate at home. It's also a great way to use up any freshly cooked\", 'language': 'en'}, page_content='2 bacon rashers, chopped\\n                                                                    \\n\\n\\n\\n                                                    1 carrot, peeled and grated\\n                                                                    \\n\\n\\n\\n                                                    2 shallots, trimmed, finely sliced'),\n",
       " Document(metadata={'source': 'https://www.taste.com.au/recipes/easy-fried-rice-3/5c89aa24-1de3-4ddc-9362-e68dfc489dc1?r=quickeasy/biccuul7', 'title': 'Easy fried rice recipe', 'description': \"Fried rice has long been a staple of Aussie takeaway dinners. And, while we might all have our favourite restaurant that makes Chinese fried rice just the way we like it, satisfying fried rice is a dish that's surprisingly easy to replicate at home. It's also a great way to use up any freshly cooked\", 'language': 'en'}, page_content='1/2 cup frozen peas, thawed\\n                                                                    \\n\\n\\n\\n                                                    1 tbsp soy sauce\\n                                                                    \\n\\n\\n\\n                                                    Sesame seeds, to serve'),\n",
       " Document(metadata={'source': 'https://www.taste.com.au/recipes/easy-fried-rice-3/5c89aa24-1de3-4ddc-9362-e68dfc489dc1?r=quickeasy/biccuul7', 'title': 'Easy fried rice recipe', 'description': \"Fried rice has long been a staple of Aussie takeaway dinners. And, while we might all have our favourite restaurant that makes Chinese fried rice just the way we like it, satisfying fried rice is a dish that's surprisingly easy to replicate at home. It's also a great way to use up any freshly cooked\", 'language': 'en'}, page_content='Shallots, sliced, extra, to serve\\n                                                                    \\n\\n\\n\\n\\n\\n\\n\\n\\n\\n\\n\\n\\nAllergens Recipe may contain                    egg,                    sesame                    and soybean.\\n             \\n\\nNutrition info\\n\\n\\n\\n\\n\\n\\n\\n\\nMethod\\n\\nMethod\\n\\n\\n\\n\\n                    Step 1\\n                \\n\\n                    Cook the rice in a large saucepan of boiling water for 12 minutes or until tender. Drain and leave to cool.\\n                \\n\\n\\n\\n\\n\\n\\n                    Step 2\\n                \\n\\n                    Heat oil in non-stick wok or large frying pan over medium heat. Add eggs. Swirl over base to form an omelette. Cook for 2 minutes or until set. Transfer to a chopping board. Set aside to cool slightly. Roll up and thickly slice.'),\n",
       " Document(metadata={'source': 'https://www.taste.com.au/recipes/easy-fried-rice-3/5c89aa24-1de3-4ddc-9362-e68dfc489dc1?r=quickeasy/biccuul7', 'title': 'Easy fried rice recipe', 'description': \"Fried rice has long been a staple of Aussie takeaway dinners. And, while we might all have our favourite restaurant that makes Chinese fried rice just the way we like it, satisfying fried rice is a dish that's surprisingly easy to replicate at home. It's also a great way to use up any freshly cooked\", 'language': 'en'}, page_content='Step 3\\n                \\n\\n                    Add bacon to wok. Cook 4 minutes until light golden. Add carrot. Stir fry 1 minute. Add shallots, peas and rice. Cook, stirring, 3-4 minutes. Add egg and soy sauce. Stir until heated through. Sprinkle with sesame seeds and top with extra shallots. Serve immediately.\\n                \\n\\n\\n\\n\\n\\n\\n\\n\\nReviews\\n\\n244\\n \\n\\n\\nI made this\\n\\n1,727\\n \\n\\n\\n\\n\\n\\n\\n\\n\\n\\n\\nSave\\n\\n\\n\\n\\n\\n\\n\\n\\n\\n\\nPrint\\n\\n\\n\\n\\n\\n\\n\\n\\n\\nCopy link\\n\\n\\n\\n\\n\\n\\n\\n\\n\\n\\n\\n\\n\\n\\n\\nRecipe notes'),\n",
       " Document(metadata={'source': 'https://www.taste.com.au/recipes/easy-fried-rice-3/5c89aa24-1de3-4ddc-9362-e68dfc489dc1?r=quickeasy/biccuul7', 'title': 'Easy fried rice recipe', 'description': \"Fried rice has long been a staple of Aussie takeaway dinners. And, while we might all have our favourite restaurant that makes Chinese fried rice just the way we like it, satisfying fried rice is a dish that's surprisingly easy to replicate at home. It's also a great way to use up any freshly cooked\", 'language': 'en'}, page_content=\"A note from our recipe tester: “When cooking the rice, it’s best to use the boiling method instead of the absorption method so the rice grains can remain separated. For the best results, it’s also ideal to use cooled or chilled rice, which is why I often make it the day before. Once it’s cooled, simply spread out onto a tray, cover with plastic film and refrigerate until required.” - Digital Food Director, Amira Georgy.\\nHow can I make a low FODMAP version of this fried rice?\\nMake this a Low FODMAP recipe by only using green tips of spring onion instead of shallots and reducing or omitting the peas.\\nIf I already have leftover cooked rice, how much will I need for this recipe?\\nAlready have leftover rice? Brilliant. You will need 3 cups of leftover white rice (cooked) for this fried rice recipe. While white rice generally carries the flavour of your sauces better than brown rice, you can use cooked brown rice or another pre-cooked chilled rice to make a fried rice.\\nCan you make fried rice in an air fryer?\\nYes, you can and it's great way to prepare fried rice it if you're trying to reduce the amount of oil in your cooking. For instructions, just follow our air fryer fried rice recipe.\\nIs fried rice healthy?\\nDue to the fact it's, well, fried and high in calories and fats, fried rice is certainly not the healthiest of dishes. However, there are definitely ways to make it a healthy fried rice. Check out this healthy fried rice with egg recipe by taste.com.au Nutrition Editor, Chrissy Freer which scores 9.30/10 on the health score meter. Or learn how to make 'fried' rice by baking it in a pan!\\n\\n\\n\\n\\n\\n\\n\\n\\n\\n\\n\\nBetter for you\\nRecipes with a Health Score of 6.1+\\n\\n\\n\\n\\n\\nHealth\\n                Score6.6\\n\\n\\n\\n\\n\\n\\n\\n (3)\\n\\nIndonesian-style salad with peanut sauce\\n\\n\\n23mins\\n\\n\\n\\n\\n\\n\\n\\n\\nHealth\\n                Score6.5\\n\\n\\n\\n\\n\\n\\n\\n (3)\\n\\nJapanese-style mushroom salad\\n\\n\\n25mins\"),\n",
       " Document(metadata={'source': 'https://www.taste.com.au/recipes/easy-fried-rice-3/5c89aa24-1de3-4ddc-9362-e68dfc489dc1?r=quickeasy/biccuul7', 'title': 'Easy fried rice recipe', 'description': \"Fried rice has long been a staple of Aussie takeaway dinners. And, while we might all have our favourite restaurant that makes Chinese fried rice just the way we like it, satisfying fried rice is a dish that's surprisingly easy to replicate at home. It's also a great way to use up any freshly cooked\", 'language': 'en'}, page_content=\"Health\\n                Score6.3\\n\\n\\n\\n\\n\\n\\n\\n (3)\\n\\nRice noodle salad with smoked trout\\n\\n\\n15mins\\n\\n\\n\\n\\n\\n\\n\\n\\nHealth\\n                Score6.3\\n\\n\\n\\n\\n\\n\\n\\n (1)\\n\\nBarbecued prawn fried rice\\n\\n\\n20mins\\n\\n\\n\\n\\n\\n\\n\\n\\nHealth\\n                Score6.5\\n\\n\\n\\n\\n\\n\\nRate now\\nPrawn & snow pea sprout noodles\\n\\n\\n25mins\\n\\n\\n\\n\\n\\n\\n\\n\\nHealth\\n                Score6.2\\n\\n\\n\\n\\n\\n\\n\\n (1)\\n\\nChargrilled zucchini with pumpkin pilaf\\n\\n\\n27mins\\n\\n\\n\\n\\n\\n\\n\\n\\nHealth\\n                Score6.3\\n\\n\\n\\n\\n\\n\\n\\n (1)\\n\\nCaramelised prawn salad\\n\\n\\n25mins\\n\\n\\n\\n\\n\\n\\n\\n\\nHealth\\n                Score6.3\\n\\n\\n\\n\\n\\n\\nRate now\\nHomemade 2-minute noodles\\n\\n\\n15mins\\n\\n\\n\\n\\n\\n\\n\\n\\nHealth\\n                Score6.5\\n\\n\\n\\n\\n\\n\\n\\n (4)\\n\\nLemon-grass jasmine rice\\n\\n\\n25mins\\n\\n\\n\\n\\n\\n\\n\\n\\nHealth\\n                Score6.5\\n\\n\\n\\n\\n\\n\\n\\n (11)\\n\\nBrown rice and macadamia salad\\n\\n\\n35mins\\n\\n\\n\\n\\n\\n \\n\\n\\n\\n\\n\\n\\n\\n\\n\\n\\n\\n\\n\\n \\n\\n\\n\\n                    APPLIANCE NEWS & REVIEWS\\n            \\n\\n\\n\\n\\n\\n \\n\\n\\n\\n13 best waffle makers - including Meghan Markle's favourite\\n\\n\\n\\n\\n\\n\\n\\n\\n \\n\\n\\n\\n\\nHow to cook sausages in your air fryer\\n\\n\\n\\n\\n\\n\\n\\n\\n \\n\\n\\n\\n\\n7 best food processors In Australia, according to the taste team\"),\n",
       " Document(metadata={'source': 'https://www.taste.com.au/recipes/easy-fried-rice-3/5c89aa24-1de3-4ddc-9362-e68dfc489dc1?r=quickeasy/biccuul7', 'title': 'Easy fried rice recipe', 'description': \"Fried rice has long been a staple of Aussie takeaway dinners. And, while we might all have our favourite restaurant that makes Chinese fried rice just the way we like it, satisfying fried rice is a dish that's surprisingly easy to replicate at home. It's also a great way to use up any freshly cooked\", 'language': 'en'}, page_content=\"The two fridge staples you should never ever store close to each other\\n\\n\\n\\n\\n\\n\\n\\n\\n \\n\\n\\n\\n\\nThe one crucial mistake everyone makes when cooking sausage rolls\\n\\n\\n\\n\\n\\n\\n\\n\\n \\n\\n\\n\\n11 Best Air Fryers in Australia to Buy in 2025, Tried & Tested\\n\\n\\n\\n\\n\\n\\n\\n\\n \\n\\n\\n\\n\\nSurprising step for the 'best roast potatoes of your life'\\n\\n\\n\\n\\n\\n\\n\\n\\n \\n\\n\\n\\n\\nYou've been cutting vanilla slice wrong all your life\\n\\n\\n\\n\\n\\n\\n\\n\\n\\n\\n\\n\\n\\nReviews\\n\\nLogin to join the conversation. Don't have an account? Sign up\\n\\n\\n\\n\\nView More\\n\\n\\n\\nNutritional information\\n\\n\\n\\nNutrition per Serving %Daily Value#\\n\\n\\n\\n\\n\\nNutrition information and Health Score does not include ingredients listed as to serve or any serving\\n                    suggestions.\\nNutrition information is calculated using an ingredient database and should be considered an\\n                    estimate.\\n# The % daily values indicates how much of a nutrient in a food serving contributes to a daily diet,\\n                    based on general nutritional advice for a diet of 2100 calories a day.\\n* Health Scores are calculated on a 1-10 scale based on nutrient density and USDA (global standard)\\n                    recommendations for a healthy diet. A higher Health Score indicates a healthier recipe. The value is\\n                    based on the impact of macronutrients and micronutrients in the recipe.\\n\\n\\n\\n\\n\\n\\n\\n\\n\\n\\n\\n\\n\\n\\n\\n\\n\\n\\n\\n\\n\\n\\n\\n\\n\\n\\n\\n\\n\\n\\n\\n\\n\\n\\n\\n\\n\\n\\n\\n\\n\\n\\n\\n\\n \\n\\n\\n\\n \\n\\n\\n\\n\\n\\n\\n\\n\\n\\n\\n                        A note about relevant advertising\"),\n",
       " Document(metadata={'source': 'https://www.taste.com.au/recipes/easy-fried-rice-3/5c89aa24-1de3-4ddc-9362-e68dfc489dc1?r=quickeasy/biccuul7', 'title': 'Easy fried rice recipe', 'description': \"Fried rice has long been a staple of Aussie takeaway dinners. And, while we might all have our favourite restaurant that makes Chinese fried rice just the way we like it, satisfying fried rice is a dish that's surprisingly easy to replicate at home. It's also a great way to use up any freshly cooked\", 'language': 'en'}, page_content='We collect information about the content (including ads) you use across this site and use it to make both advertising and content more\\n                        relevant to you on our network and other sites. This is also known as Online Behavioural Advertising. You can find out more about our\\n                        policy and your choices, including how to opt-out\\n                        here.\\n                        Taste may receive an affiliate commission if you buy through our links. Learn more.\\n\\n\\n\\n\\n\\n\\n\\n\\n\\nCopyright 2025 News Life Media Pty Ltd all rights reserved\\n\\n\\n\\n\\n\\nPrivacy Policy\\nRelevant Ads Opt-Out\\nCookie Policy\\nAbout us\\nFAQ\\nAdvertise\\nLicensing & Reprints\\nTerms of Use\\nContact us\\nCode of conduct')]"
      ]
     },
     "execution_count": 39,
     "metadata": {},
     "output_type": "execute_result"
    }
   ],
   "source": [
    "from langchain.text_splitter import RecursiveCharacterTextSplitter\n",
    "from langchain_community.document_loaders import WebBaseLoader\n",
    "import langchain_core\n",
    "\n",
    "# Documents to add to index (SHOULD ONLY RUN ONCE)\n",
    "with open(\"food_urls.json\", \"r\") as f:\n",
    "  urls = json.load(f)\n",
    "\n",
    "print(urls)\n",
    "\n",
    "def chunkify_text_from_urls(url_list: list[str], chunk_size:int = 500) -> list[langchain_core.documents.base.Document]:\n",
    "  ## Load the URL's into a document page\n",
    "  docs = [WebBaseLoader(url).load() for url in url_list]\n",
    "  doc_list = [item for sublist in docs for item in sublist]\n",
    "  # Split into multiple text\n",
    "  text_splitter = RecursiveCharacterTextSplitter.from_tiktoken_encoder(chunk_size=chunk_size, chunk_overlap=0)\n",
    "  texts = text_splitter.split_documents(doc_list)\n",
    "  return texts\n",
    "\n",
    "\n",
    "docs_split = chunkify_text_from_urls(urls, chunk_size=500) \n",
    "docs_split # Output the list of split documents\n"
   ]
  },
  {
   "cell_type": "markdown",
   "metadata": {},
   "source": [
    "## Converting the split documents into vectors\n",
    "\n",
    "The following converts the split documents into vectors by using an embedding system. This is a sort of ML modeled system that interprets the data into something that can be utilized more cohesively.\n",
    "\n",
    "To explain in layman's: The documents need to be converted into vectorized data a computer can read and use. We are humans, and so these ML models will re-interpret the list of website HTML (as seen above) into more approachable data a computer can handle\n",
    "\n",
    "To get a token from HuggingFace: https://huggingface.co/settings/tokens"
   ]
  },
  {
   "cell_type": "markdown",
   "metadata": {},
   "source": []
  },
  {
   "cell_type": "code",
   "execution_count": 44,
   "metadata": {},
   "outputs": [],
   "source": [
    "from langchain_huggingface import HuggingFaceEmbeddings\n",
    "import os\n",
    "\n",
    "with open(\"tokens.json\", \"r\") as f:\n",
    "  tokens = json.load(f)\n",
    "\n",
    "  # We must explicitly define the token into the environment variable\n",
    "  os.environ[\"HUGGINGFACE_HUB_TOKEN\"] = tokens[\"HUGGING_FACE_READ_TOKEN\"]\n",
    "\n",
    "# Use an open source embedding model: https://huggingface.co/sentence-transformers/all-MiniLM-L6-v2\n",
    "embeddings = HuggingFaceEmbeddings(model_name=\"all-MiniLM-L6-v2\")"
   ]
  },
  {
   "cell_type": "code",
   "execution_count": 49,
   "metadata": {},
   "outputs": [],
   "source": [
    "from langchain.vectorstores.cassandra import Cassandra\n",
    "\n",
    "# Connect to the database with the designated embeddings\n",
    "astra_vector_store = Cassandra(embedding=embeddings,\n",
    "                               table_name=\"food_demo\",\n",
    "                               session=None,\n",
    "                               keyspace=None)"
   ]
  },
  {
   "cell_type": "code",
   "execution_count": 50,
   "metadata": {},
   "outputs": [
    {
     "name": "stdout",
     "output_type": "stream",
     "text": [
      "Inserted 51 headlines.\n"
     ]
    }
   ],
   "source": [
    "from langchain.indexes.vectorstore import VectorStoreIndexWrapper\n",
    "\n",
    "# Adding documents to the vector store\n",
    "astra_vector_store.add_documents(docs_split)\n",
    "print(f\"Inserted {len(docs_split)} headlines.\")\n",
    "\n",
    "astra_vector_index = VectorStoreIndexWrapper(vectorstore=astra_vector_store)"
   ]
  },
  {
   "cell_type": "markdown",
   "metadata": {},
   "source": [
    "## Retreiving data\n",
    "\n",
    "This allows you to retreive data from the document (Could be a separate program to read the vectorized database)"
   ]
  },
  {
   "cell_type": "code",
   "execution_count": 51,
   "metadata": {},
   "outputs": [
    {
     "data": {
      "text/plain": [
       "[Document(id='ed50d4b1f6d34e26a24fd93ed92c4fb9', metadata={'description': 'The best fettuccine alfredo. Fettuccine pasta with a homemade decadent alfredo sauce made with 5 simple ingredients. Quick and easy fettuccine alfredo.', 'language': 'en-US', 'source': 'https://www.modernhoney.com/fettuccine-alfredo/', 'title': 'Fettuccine Alfredo – Modern Honey'}, page_content='Fettuccine Alfredo – Modern Honey\\n\\n\\n\\n\\n\\n\\n\\n\\n\\n\\n\\n\\n\\n\\n\\n\\n\\n\\n\\n\\n\\n\\n\\n\\n\\n\\n\\n \\n\\n\\n\\n\\n\\n\\n\\n\\n\\n\\n\\n\\n\\n\\n\\n\\n\\n\\n\\n\\n \\n\\n\\n\\n\\n\\n\\n\\n\\n\\n\\n\\n\\n\\n\\n\\n \\nSkip to contentSign up for free daily recipes! →Recipes\\n\\nDinner\\nDessert\\nSide Dishes\\nAppetizers\\nBreakfast\\nAll Categories\\n\\n\\nTop 20\\nDessert\\nSubscribe\\nAbout\\nSearch\\n\\nHome  Pasta  Fettuccine AlfredoFettuccine AlfredoPosted by Melissa Stadleron  Aug 12, 2018286 CommentsJump to RecipeRate RecipeThis post may contain affiliate links. Please read our disclosure policy.\\n\\nFettuccine Alfredo\\nFettuccine pasta topped with a homemade rich decadent alfredo sauce\\xa0\\nThere are certain recipes that are essential to have in your recipe box and one of them has to be a phenomenal Fettuccine alfredo recipe.\\xa0 Years ago, when I was teaching kids’ cooking classes, this was one of the first things I taught them. Almost every single kid around goes crazy for alfredo sauce! It is so easy to make a homemade alfredo sauce that you will never buy the jarred variety again!\\nThis homemade alfredo sauce is made with simple ingredients — butter, parmesan cheese, garlic, heavy cream, and salt. It’s a 5-ingredient alfredo sauce that is beyond easy!\\n\\nIf you are looking for a lighter version, I created a low-fat fettuccine alfredo version called Skinny Fettuccine Alfredo. You can find the recipe HERE.\\nThis homemade alfredo sauce can be tossed with the pasta so the pasta soaks up all of the sauce or it can be spooned over hot, fresh pasta.\\xa0 I love to use fresh refrigerated fettuccine noodles because it tastes that much better. If you want the fettuccine alfredo to be a little more “saucy” toss the sauce with less than one pound of pasta (you may start with 12 ounces of fettuccine).\\n\\nTips for making PERFECT FETTUCCINE ALFREDO:'),\n",
       " Document(id='73e7b55aba884077b83e54c857b60788', metadata={'description': 'The best fettuccine alfredo. Fettuccine pasta with a homemade decadent alfredo sauce made with 5 simple ingredients. Quick and easy fettuccine alfredo.', 'language': 'en-US', 'source': 'https://www.modernhoney.com/fettuccine-alfredo/', 'title': 'Fettuccine Alfredo – Modern Honey'}, page_content='Start by bringing water to a boil in a large pot. Add salt to the water to season the pasta. Once it is boiling, add pasta and cook according to package instructions.\\nSaute the garlic and butter together until softened — about 1 to 2 minutes.\\nAdd heavy cream and let simmer over medium-high heat for about 5 minutes to thicken. Add salt and pepper to taste. Add half of the parmesan cheese to the mixture and whisk well until smooth.\\nSave some pasta water.\\xa0The pasta water is full of flavor and can be used to thin out the sauce.\\nToss alfredo sauce with fettuccine pasta and add half of the parmesan cheese. Once it is tossed, garnish with the remaining parmesan cheese. Add a little pasta water if it needs to be thinned out.\\nGarnish with Italian parsley, if so desired.\\n\\nPin on PINTEREST:\\n\\n\\xa0\\n\\n\\n\\n\\nPin this now to find it laterPin It\\n\\n\\n\\nSaveSaved\\n\\nPin\\nPrint\\n\\n\\n\\n4.98 from 302 votes\\nFettuccine Alfredo\\nThe perfect homemade fettuccine alfredo using heavy cream, butter, parmesan cheese, and a touch of garlic.\\xa0\\nPrep Time: 5 minutes minutesCook Time: 15 minutes minutesTotal Time: 20 minutes minutes'),\n",
       " Document(id='8dfb62855c7244e39fcc03b2c1c21ab4', metadata={'description': 'The best fettuccine alfredo. Fettuccine pasta with a homemade decadent alfredo sauce made with 5 simple ingredients. Quick and easy fettuccine alfredo.', 'language': 'en-US', 'source': 'https://www.modernhoney.com/fettuccine-alfredo/', 'title': 'Fettuccine Alfredo – Modern Honey'}, page_content='Equipmentspatula setmeasuring cups and spoons\\nIngredients\\xa0\\xa0▢  1 lb Fettuccine Pasta▢ 6 Tablespoons  Butter ▢ 1 Garlic Clove (minced)▢ 1 1/2  cups Heavy Cream ▢ 1/4 teaspoon Salt▢ 1 1/4  cup  Shredded Parmesan Cheese ▢ 1/4  teaspoon  Pepper▢ 2  Tablespoons  Italian Parsley (optional)Get Recipe Ingredients\\nInstructions\\xa0In a large pot, heat water over high heat until boiling. Add salt to season the water. Once it is boiling, add fettuccine and cook according to package instructions.\\xa0In a large skillet or pan, heat butter over medium heat. Add minced garlic and cook for 1 to 2 minutes. Stir in heavy cream.\\xa0Let heavy cream reduce and cook for 5 to 8 minutes.\\xa0Add half of the parmesan cheese to the mixture and whisk well until smooth. Keep over heat and whisk well until cheese is melted.Save some pasta water. The pasta water is full of flavor and can be used to thin out the sauce.Toss alfredo sauce with fettuccine pasta and add half of the parmesan cheese. Once it is tossed, garnish with the remaining parmesan cheese. Add a little pasta water if it needs to be thinned out.Garnish with Italian parsley, if so desired.\\nVideo\\n\\n\\n\\n\\n\\n\\n\\n\\nNotes\\nUse real parmesan cheese, which is refrigerated.\\nIf you like it to be more \"saucy\", you may use less than 1 lb. of fettuccine pasta.\\xa0\\nLeftover pasta water may be used to thin out pasta sauce.\\xa0\\n\\n\\nNutrition information is automatically calculated, so should only be used as an approximation.\\n\\n\\nAdditional Info\\nCourse: DinnerCuisine: ItalianKeyword: Fettuccine Alfredo\\n\\n\\n Like this? Leave a comment below!Jump to Comments\\nI hope you love this fettuccine pasta with homemade alfredo sauce. Happy Cooking, my friends!\\nLike this recipe? Share it with friends!PinFacebookTweetYummlyEmail\\n\\nDinner Pasta Recipes'),\n",
       " Document(id='cab35f825785468aaf367fdb4087d756', metadata={'description': 'The best fettuccine alfredo. Fettuccine pasta with a homemade decadent alfredo sauce made with 5 simple ingredients. Quick and easy fettuccine alfredo.', 'language': 'en-US', 'source': 'https://www.modernhoney.com/fettuccine-alfredo/', 'title': 'Fettuccine Alfredo – Modern Honey'}, page_content=\"Hi, I'm Melissa Stadler!\\nI am an Award-Winning Recipe Creator. Cover of Food Network Magazine. Two-Time Pillsbury Bake-Off Finalist. I am passionate about sharing the best recipes so you have success in the kitchen!\\n\\nMore about Me\\n\\n\\n\\n\\n\\nYou Might Also Like\\nLove at First Bite PastaRicotta MeatballsEasy Mac and Cheese RecipeTortellini Alfredo with Grilled Chicken\\n \\n\\n\\n\\t4.98 from 302 votes (138 ratings without comment)\\n\\t\\t\\n\\n\\nLeave a comment Cancel replyYour email address will not be published. Required fields are marked *\\nRecipe Rating \\n\\nRecipe Rating\\n\\n\\n\\n\\n\\n\\n\\n\\n\\n\\n\\n\\n\\n\\n\\n\\n\\n\\n\\n\\n\\n\\n\\n\\n\\n\\n\\n\\n\\n\\n\\n\\n\\n\\n\\n\\n\\n\\n\\n\\n\\n\\n\\n\\n\\n\\n\\n\\n\\n\\n\\n\\n\\n\\n\\n\\n\\n\\n \\n\\n\\nComment * Name * \\nEmail * \\n Save my name, email, and website in this browser for the next time I comment.\\n Notify me of follow-up comments by email. Notify me of new posts by email. \\n\\nΔ \\n286 Comments \\n\\n\\n\\nPatricia Diane says: \\n\\nMarch 17, 2025 at 8:21 PM \\n\\n\\n\\nMy 8 yr old Grandson is our Fetticine expert.\\nFIVE STARS & A THUMBS 👍\\nWe all agree !!!\\nLove your recipe 😋\\nAnd so easy to make 😊\\n\\nReply \\n\\n\\n\\n\\n\\nSuzanne says: \\n\\nMarch 16, 2025 at 11:05 AM \\n\\n\\n\\nI have made this recipe more times than I can count. It comes out perfectly every single time! I add some chicken to it just so I  get some added protein and oh my gosh, so good!!!! Thank you so much for finally posting the PERFECT fettuccine Alfredo recipe!\\n\\nReply \\n\\n\\n\\n\\n\\nMelissa Stadler says: \\n\\nMarch 16, 2025 at 11:59 AM \\n\\n\\nThank you so much for making this recipe, Suzanne!\\n\\nReply \\n\\n\\n\\n\\n\\n\\n\\nMaggie says: \\n\\nMarch 9, 2025 at 4:29 PM \\n\\n\\n\\nSo fancy and decadent!  I doubled the sauce amount and it was perfect then added chicken. So good!!\\n\\nReply\")]"
      ]
     },
     "execution_count": 51,
     "metadata": {},
     "output_type": "execute_result"
    }
   ],
   "source": [
    "retreiver = astra_vector_store.as_retriever()\n",
    "retreiver.invoke(\"What is fettucini Alfredo?\")"
   ]
  },
  {
   "cell_type": "markdown",
   "metadata": {},
   "source": [
    "## Langgraph Application\n",
    "\n",
    "Groq allows chatting with a large number of AI Chatbots like LLama.\n",
    "\n",
    "To use groq's API, create an account -> Start Building -> API Keys\n",
    "And create an API Key: https://console.groq.com/keys"
   ]
  },
  {
   "cell_type": "code",
   "execution_count": null,
   "metadata": {},
   "outputs": [],
   "source": [
    "from typing import Literal\n",
    "\n",
    "from langchain_core.prompts import ChatPromptTemplate\n",
    "from langchain_core.pydantic_v1 import BaseModel, Field\n",
    "\n",
    "# This RouteQuery class basically gives priority to the vectorstore, otherwise do wiki search if it doesnt work\n",
    "class RouteQuery(BaseModel):\n",
    "  \"\"\"This routes a user query to the most relevent data source\"\"\"\n",
    "\n",
    "  datasource: Literal[\"vectorstore\", \"wiki_search\"] = Field(\n",
    "    ...,\n",
    "    description=\"Gives a user question choose to route it to wikipedia or a vectorstore\"\n",
    "  )"
   ]
  },
  {
   "cell_type": "code",
   "execution_count": 56,
   "metadata": {},
   "outputs": [],
   "source": [
    "from langchain_groq import ChatGroq\n",
    "import os\n",
    "\n",
    "# Accessing groq\n",
    "with open(\"tokens.json\", \"r\") as f:\n",
    "  tokens = json.load(f)\n",
    "\n",
    "  GROQ_API_KEY = tokens[\"GROQ_API_KEY\"]\n",
    "\n",
    "# List of models: https://console.groq.com/docs/models\n",
    "llm = ChatGroq(groq_api_key=GROQ_API_KEY, model_name=\"llama-3.3-70b-versatile\")\n",
    "llm\n",
    "\n",
    "# Add structured output RouteQuery\n",
    "structured_llm_router = llm.with_structured_output(RouteQuery)\n"
   ]
  },
  {
   "cell_type": "code",
   "execution_count": 57,
   "metadata": {},
   "outputs": [],
   "source": [
    "# Prompt\n",
    "system = \"\"\"You are an expert at routing a user question to a vectorstore or wikipedia. \n",
    "The vectorstore contains documents related to food and only retrieival of their recipes.\n",
    " Use the vectorstore for questions on this one topic. Otherwise, use wiki-search.\"\"\"\n",
    "\n",
    "route_prompt = ChatPromptTemplate.from_messages(\n",
    "  [\n",
    "    (\"system\", system),\n",
    "    (\"human\", \"{question}\")\n",
    "  ]\n",
    ")\n",
    "\n",
    "question_router = route_prompt | structured_llm_router"
   ]
  },
  {
   "cell_type": "markdown",
   "metadata": {},
   "source": [
    "## Testing query with a prompt"
   ]
  },
  {
   "cell_type": "code",
   "execution_count": 58,
   "metadata": {},
   "outputs": [
    {
     "name": "stdout",
     "output_type": "stream",
     "text": [
      "datasource='vectorstore'\n"
     ]
    }
   ],
   "source": [
    "print(question_router.invoke(\n",
    "  {\n",
    "    \"question\": \"How do I make fettucini?\"\n",
    "  }\n",
    "))"
   ]
  },
  {
   "cell_type": "markdown",
   "metadata": {},
   "source": [
    "## Wikipedia search capabilities"
   ]
  },
  {
   "cell_type": "code",
   "execution_count": 72,
   "metadata": {},
   "outputs": [],
   "source": [
    "from langchain_community.utilities import WikipediaAPIWrapper\n",
    "from langchain_community.tools import WikipediaQueryRun\n",
    "\n",
    "# top_k_results returns the top n results\n",
    "# doc_content_chars_max allows you to set the max number of characteers (-1 to disable)\n",
    "api_wrapper = WikipediaAPIWrapper(top_k_results=1, doc_content_chars_max=-1)\n",
    "wiki = WikipediaQueryRun(api_wrapper=api_wrapper)"
   ]
  },
  {
   "cell_type": "code",
   "execution_count": 73,
   "metadata": {},
   "outputs": [
    {
     "data": {
      "text/plain": [
       "'Page: Fettuccine Alfredo\\nSummary: Fettuccine Alfredo (Italian: [fettut\\'tʃiːne alˈfreːdo]) is a pasta dish consisting of fettuccine tossed with butter and Parmesan cheese, which melt and emulsify to form a rich cheese sauce coating the pasta. Originating in Rome in the early 20th century, the recipe is now popular in the United States and other countries. Outside of Italy, cream is sometimes used to thicken the sauce, and ingredients such as chicken, shrimp, salmon or broccoli may also be added when it is served as a main course.\\nThe dish is named after Alfredo Di Lelio, a Roman restaurateur who is credited with its invention and popularisation. Di Lelio\\'s tableside service was an integral part of the recipe\\'s success. Fettuccine Alfredo is a variant of standard Italian fettuccine al burro (\\'fettuccine with butter\\') or pasta burro e parmigiano (\\'pasta with butter and Parmesan cheese\\'). It is a kind of pasta in bianco, that is, without added sauce. Italian recipes do not include cream and are not topped with other ingredients, nor is the dish generally called \"Alfredo\" in Italy'"
      ]
     },
     "execution_count": 73,
     "metadata": {},
     "output_type": "execute_result"
    }
   ],
   "source": [
    "wiki.run(\"How do I make fettucini?\")"
   ]
  },
  {
   "cell_type": "markdown",
   "metadata": {},
   "source": [
    "## AiGents Application Using Langgraph"
   ]
  },
  {
   "cell_type": "code",
   "execution_count": 76,
   "metadata": {},
   "outputs": [],
   "source": [
    "from typing import List\n",
    "from typing_extensions import TypedDict\n",
    "\n",
    "class GraphState(TypedDict):\n",
    "  \"\"\"\n",
    "  Represents the state of the graph\n",
    "\n",
    "  Attributes:\n",
    "    question: question\n",
    "    generation: LLM generation\n",
    "    documents: list of documents\n",
    "  \"\"\"\n",
    "\n",
    "  question: str\n",
    "  generation: str\n",
    "  documents: List[str]"
   ]
  },
  {
   "cell_type": "code",
   "execution_count": 80,
   "metadata": {},
   "outputs": [],
   "source": [
    "from langchain.schema import Document\n",
    "\n",
    "def retrieve(state):\n",
    "  \"\"\"\n",
    "  Retrieve documents\n",
    "\n",
    "  Args:\n",
    "    state (dict): The current graph state\n",
    "\n",
    "  Returns:\n",
    "    state (dict): New key added to state, documents, that contains retreived documents\n",
    "  \"\"\"\n",
    "\n",
    "  print(\"---Retrievee---\")\n",
    "  question=state[\"question\"]\n",
    "\n",
    "  # Retreival\n",
    "  documents=retreiver.invoke(question)\n",
    "  return {\"documents\":documents, \"questions\":question}"
   ]
  },
  {
   "cell_type": "code",
   "execution_count": 84,
   "metadata": {},
   "outputs": [],
   "source": [
    "def wiki_search(state):\n",
    "  \"\"\"\n",
    "  Wiki search based on the re-phrased question\n",
    "\n",
    "  Args:\n",
    "    state (dict): The current graph state\n",
    "\n",
    "  Returns:\n",
    "    state (dict): Updates documents key with appended web results\n",
    "  \"\"\"\n",
    "  print(\"---Wikipedia---\")\n",
    "  question=state[\"question\"]\n",
    "  print(question)\n",
    "\n",
    "  # Wiki search\n",
    "  docs = wiki.invoke({\"query\": question})\n",
    "\n",
    "  wiki_results = docs\n",
    "  wiki_results = Document(page_content=wiki_results)\n",
    "\n",
    "  return {\"documents\": wiki_results, \"question\": question}\n",
    "\n"
   ]
  },
  {
   "cell_type": "markdown",
   "metadata": {},
   "source": [
    "## Routing the functions to the LangGraph `question_router` from earlier"
   ]
  },
  {
   "cell_type": "code",
   "execution_count": 85,
   "metadata": {},
   "outputs": [],
   "source": [
    "def route_question(state):\n",
    "  \"\"\"\n",
    "  Routes the question to wiki search or RAG.\n",
    "\n",
    "  Args:\n",
    "    state (dict): The current graph state\n",
    "\n",
    "  Returns:\n",
    "    str: Next node to call\n",
    "  \"\"\"\n",
    "  print(\"---Route Question---\")\n",
    "  question = state[\"question\"]\n",
    "  source = question_router.invoke({\"question\": question})\n",
    "  \n",
    "  data_source = source.datasource\n",
    "  data_sources = [\"wiki_search\", \"vectorstore\"]\n",
    "  \n",
    "  if data_source in data_sources:\n",
    "    print(f\"Routing to {data_source}\")\n",
    "    return data_source\n",
    "  \n",
    "\n"
   ]
  },
  {
   "cell_type": "code",
   "execution_count": 86,
   "metadata": {},
   "outputs": [],
   "source": [
    "from langgraph.graph import END, StateGraph, START\n",
    "\n",
    "workflow = StateGraph(GraphState)\n",
    "# Define the nodes\n",
    "workflow.add_node(\"wiki_search\", wiki_search)\n",
    "workflow.add_node(\"retrieve\", retrieve)\n",
    "\n",
    "# Build the graph\n",
    "workflow.add_conditional_edges(\n",
    "  START,\n",
    "  route_question,\n",
    "  {\n",
    "    \"wiki_search\": \"wiki_search\",\n",
    "    \"vectorstore\": \"retrieve\"\n",
    "  }\n",
    ")\n",
    "\n",
    "workflow.add_edge(\"retrieve\", END)\n",
    "workflow.add_edge(\"wiki_search\", END)\n",
    "\n",
    "# Compile\n",
    "app=workflow.compile()\n"
   ]
  },
  {
   "cell_type": "code",
   "execution_count": null,
   "metadata": {},
   "outputs": [],
   "source": [
    "from IPython.display import Image, display\n",
    "\n",
    "try:\n",
    "  display(Image(app.get_graph().draw_mermaid_png()))\n",
    "except Exception:\n",
    "  # This requires some additional dependancies and is optional\n",
    "  pass"
   ]
  }
 ],
 "metadata": {
  "kernelspec": {
   "display_name": ".venv",
   "language": "python",
   "name": "python3"
  },
  "language_info": {
   "codemirror_mode": {
    "name": "ipython",
    "version": 3
   },
   "file_extension": ".py",
   "mimetype": "text/x-python",
   "name": "python",
   "nbconvert_exporter": "python",
   "pygments_lexer": "ipython3",
   "version": "3.12.3"
  }
 },
 "nbformat": 4,
 "nbformat_minor": 2
}
